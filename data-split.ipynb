{
 "cells": [
  {
   "cell_type": "code",
   "execution_count": 1,
   "id": "0cba9080",
   "metadata": {},
   "outputs": [],
   "source": [
    "import os\n",
    "import pandas as pd\n",
    "from PIL import Image\n",
    "from tqdm.notebook import tqdm\n",
    "\n",
    "from sklearn.model_selection import train_test_split"
   ]
  },
  {
   "cell_type": "code",
   "execution_count": 2,
   "id": "86d2b067",
   "metadata": {},
   "outputs": [],
   "source": [
    "make_dir = lambda path : os.makedirs(path) if not os.path.exists(path) else 0"
   ]
  },
  {
   "cell_type": "code",
   "execution_count": 3,
   "id": "c9432b97",
   "metadata": {},
   "outputs": [
    {
     "data": {
      "text/plain": [
       "0"
      ]
     },
     "execution_count": 3,
     "metadata": {},
     "output_type": "execute_result"
    }
   ],
   "source": [
    "data_dir = \"data/\"\n",
    "train_dir = f\"{data_dir}train/\"\n",
    "test_dir = f\"{data_dir}test/\"\n",
    "val_dir = f\"{data_dir}val/\"\n",
    "\n",
    "make_dir(data_dir)\n",
    "make_dir(train_dir)\n",
    "make_dir(val_dir)\n",
    "make_dir(test_dir)"
   ]
  },
  {
   "cell_type": "code",
   "execution_count": 4,
   "id": "fd8c3531",
   "metadata": {},
   "outputs": [],
   "source": [
    "src_dir = \"dataverse_files/\"\n",
    "df = pd.read_csv(f'{src_dir}HAM10000_metadata')"
   ]
  },
  {
   "cell_type": "code",
   "execution_count": 5,
   "id": "cbaf4cf1",
   "metadata": {},
   "outputs": [],
   "source": [
    "df_train, df_test = train_test_split(df, test_size=0.2)\n",
    "df_test, df_val = train_test_split(df_test, test_size=0.5)\n",
    "\n",
    "df_train.to_csv(f\"{data_dir}train_truth.csv\", index=False)\n",
    "df_test.to_csv(f\"{data_dir}test_truth.csv\", index=False)\n",
    "df_val.to_csv(f\"{data_dir}val_truth.csv\", index=False)"
   ]
  },
  {
   "cell_type": "code",
   "execution_count": 6,
   "id": "241e89c4",
   "metadata": {},
   "outputs": [],
   "source": [
    "def copy_image(path_src, path_dest):\n",
    "    im1 = Image.open(path_src)\n",
    "    im1.save(path_dest)\n",
    "    return"
   ]
  },
  {
   "cell_type": "code",
   "execution_count": 7,
   "id": "92898de3",
   "metadata": {},
   "outputs": [],
   "source": [
    "folders = ['HAM10000_images_part_1','HAM10000_images_part_2']"
   ]
  },
  {
   "cell_type": "code",
   "execution_count": 8,
   "id": "161fb1c6",
   "metadata": {},
   "outputs": [
    {
     "data": {
      "text/plain": [
       "{'akiec', 'bcc', 'bkl', 'df', 'mel', 'nv', 'vasc'}"
      ]
     },
     "execution_count": 8,
     "metadata": {},
     "output_type": "execute_result"
    }
   ],
   "source": [
    "classes = set(df_train.dx)\n",
    "classes"
   ]
  },
  {
   "cell_type": "code",
   "execution_count": 9,
   "id": "c9e5bce9",
   "metadata": {},
   "outputs": [
    {
     "data": {
      "application/vnd.jupyter.widget-view+json": {
       "model_id": "9361fb74b78448728c2971889053d504",
       "version_major": 2,
       "version_minor": 0
      },
      "text/plain": [
       "  0%|          | 0/2 [00:00<?, ?it/s]"
      ]
     },
     "metadata": {},
     "output_type": "display_data"
    }
   ],
   "source": [
    "#Testing Data Split\n",
    "for folder in tqdm(folders):\n",
    "    folder_dir = f\"{src_dir}{folder}/\"\n",
    "    imgs_list = os.listdir(folder_dir)\n",
    "    for img in df_test['image_id'].values:\n",
    "        img_name = f\"{img}.jpg\"\n",
    "        if img_name in imgs_list:\n",
    "            copy_image(f\"{folder_dir}{img_name}\",f\"{test_dir}{img_name}\")"
   ]
  },
  {
   "cell_type": "code",
   "execution_count": 10,
   "id": "2537e7a3",
   "metadata": {},
   "outputs": [
    {
     "data": {
      "application/vnd.jupyter.widget-view+json": {
       "model_id": "fffc481a9b2a44339bc0cb489b6b8d7d",
       "version_major": 2,
       "version_minor": 0
      },
      "text/plain": [
       "  0%|          | 0/2 [00:00<?, ?it/s]"
      ]
     },
     "metadata": {},
     "output_type": "display_data"
    }
   ],
   "source": [
    "#Validation Data Split\n",
    "for folder in tqdm(folders):\n",
    "    folder_dir = f\"{src_dir}{folder}/\"\n",
    "    imgs_list = os.listdir(folder_dir)\n",
    "    for img in df_val['image_id'].values:\n",
    "        img_name = f\"{img}.jpg\"\n",
    "        if img_name in imgs_list:\n",
    "            copy_image(f\"{folder_dir}{img_name}\",f\"{val_dir}{img_name}\")"
   ]
  },
  {
   "cell_type": "code",
   "execution_count": 11,
   "id": "2ff486a9",
   "metadata": {},
   "outputs": [
    {
     "data": {
      "application/vnd.jupyter.widget-view+json": {
       "model_id": "df2e72fabbdd4875a052fe191266b224",
       "version_major": 2,
       "version_minor": 0
      },
      "text/plain": [
       "  0%|          | 0/2 [00:00<?, ?it/s]"
      ]
     },
     "metadata": {},
     "output_type": "display_data"
    }
   ],
   "source": [
    "#Training Data Split\n",
    "for folder in tqdm(folders):\n",
    "    folder_dir = f\"{src_dir}{folder}/\"\n",
    "    imgs_list = os.listdir(folder_dir)\n",
    "    for c in classes:\n",
    "        make_dir(f\"{train_dir}{c}/\")\n",
    "        for img in df_train[df_train['dx'] == c]['image_id'].values:\n",
    "            img_name = f\"{img}.jpg\"\n",
    "            if img_name in imgs_list:\n",
    "                copy_image(f\"{folder_dir}{img_name}\",f\"{train_dir}{c}/{img_name}\")"
   ]
  },
  {
   "cell_type": "code",
   "execution_count": null,
   "id": "0f971652",
   "metadata": {},
   "outputs": [],
   "source": []
  }
 ],
 "metadata": {
  "kernelspec": {
   "display_name": "Python 3 (ipykernel)",
   "language": "python",
   "name": "python3"
  },
  "language_info": {
   "codemirror_mode": {
    "name": "ipython",
    "version": 3
   },
   "file_extension": ".py",
   "mimetype": "text/x-python",
   "name": "python",
   "nbconvert_exporter": "python",
   "pygments_lexer": "ipython3",
   "version": "3.9.12"
  }
 },
 "nbformat": 4,
 "nbformat_minor": 5
}
