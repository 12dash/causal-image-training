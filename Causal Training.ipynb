{
 "cells": [
  {
   "cell_type": "code",
   "execution_count": 1,
   "id": "8c1d71b9",
   "metadata": {
    "execution": {
     "iopub.execute_input": "2023-02-15T01:17:44.000869Z",
     "iopub.status.busy": "2023-02-15T01:17:44.000261Z",
     "iopub.status.idle": "2023-02-15T01:17:46.104545Z",
     "shell.execute_reply": "2023-02-15T01:17:46.104031Z",
     "shell.execute_reply.started": "2023-02-15T01:17:44.000806Z"
    }
   },
   "outputs": [],
   "source": [
    "import os\n",
    "import time\n",
    "from tqdm.notebook import tqdm\n",
    "\n",
    "import numpy as np\n",
    "import pandas as pd\n",
    "import tensorflow as tf\n",
    "\n",
    "from sklearn.utils.class_weight import compute_class_weight\n",
    "from sklearn.metrics import classification_report, ConfusionMatrixDisplay, confusion_matrix"
   ]
  },
  {
   "cell_type": "code",
   "execution_count": 3,
   "id": "94b3ce09",
   "metadata": {
    "execution": {
     "iopub.execute_input": "2023-02-15T01:17:58.466708Z",
     "iopub.status.busy": "2023-02-15T01:17:58.466149Z",
     "iopub.status.idle": "2023-02-15T01:18:07.461633Z",
     "shell.execute_reply": "2023-02-15T01:18:07.460926Z",
     "shell.execute_reply.started": "2023-02-15T01:17:58.466681Z"
    }
   },
   "outputs": [],
   "source": [
    "base_model_name = 'inception' \n",
    "base_model = tf.keras.models.load_model(f'model/{base_model_name}')"
   ]
  },
  {
   "cell_type": "code",
   "execution_count": 4,
   "id": "eacffb60",
   "metadata": {
    "execution": {
     "iopub.execute_input": "2023-02-15T01:18:07.463657Z",
     "iopub.status.busy": "2023-02-15T01:18:07.463407Z",
     "iopub.status.idle": "2023-02-15T01:18:07.470590Z",
     "shell.execute_reply": "2023-02-15T01:18:07.469947Z",
     "shell.execute_reply.started": "2023-02-15T01:18:07.463637Z"
    }
   },
   "outputs": [],
   "source": [
    "local_model = tf.keras.Model(inputs=base_model.inputs, \n",
    "                             outputs=base_model.get_layer(name = 'mixed0').output, \n",
    "                             name=\"local_feature\")"
   ]
  },
  {
   "cell_type": "code",
   "execution_count": 5,
   "id": "dedfd99f",
   "metadata": {
    "execution": {
     "iopub.execute_input": "2023-02-15T01:18:07.471627Z",
     "iopub.status.busy": "2023-02-15T01:18:07.471429Z",
     "iopub.status.idle": "2023-02-15T01:18:07.485930Z",
     "shell.execute_reply": "2023-02-15T01:18:07.485306Z",
     "shell.execute_reply.started": "2023-02-15T01:18:07.471609Z"
    }
   },
   "outputs": [],
   "source": [
    "global_model = tf.keras.Model(inputs = base_model.inputs, \n",
    "                             outputs=base_model.get_layer(name = 'global_average_pooling2d').output,\n",
    "                             name = 'global_feature')"
   ]
  },
  {
   "cell_type": "code",
   "execution_count": 6,
   "id": "c9a47460",
   "metadata": {
    "execution": {
     "iopub.execute_input": "2023-02-15T01:18:07.487539Z",
     "iopub.status.busy": "2023-02-15T01:18:07.487311Z",
     "iopub.status.idle": "2023-02-15T01:18:07.491950Z",
     "shell.execute_reply": "2023-02-15T01:18:07.491226Z",
     "shell.execute_reply.started": "2023-02-15T01:18:07.487521Z"
    }
   },
   "outputs": [],
   "source": [
    "def get_class_label_weight(df):\n",
    "    labels = list(df['dx'])\n",
    "    \n",
    "    weights = compute_class_weight(class_weight = 'balanced', \n",
    "                         classes = np.unique(labels),\n",
    "                         y = labels)\n",
    "\n",
    "    labels = np.unique(labels)\n",
    "\n",
    "    class_label = {name : idx for idx, name in enumerate(labels)}\n",
    "    weights = {idx : weights[idx] for idx, name in enumerate(labels)}\n",
    "    \n",
    "    return class_label, weights"
   ]
  },
  {
   "cell_type": "code",
   "execution_count": 7,
   "id": "277fe0d8",
   "metadata": {
    "execution": {
     "iopub.execute_input": "2023-02-15T01:18:07.492892Z",
     "iopub.status.busy": "2023-02-15T01:18:07.492699Z",
     "iopub.status.idle": "2023-02-15T01:18:07.496717Z",
     "shell.execute_reply": "2023-02-15T01:18:07.496097Z",
     "shell.execute_reply.started": "2023-02-15T01:18:07.492872Z"
    }
   },
   "outputs": [],
   "source": [
    "def get_img(img_path, image_size=299):\n",
    "    preprocess_input = tf.keras.applications.inception_v3.preprocess_input\n",
    "    img = tf.keras.preprocessing.image.load_img(img_path, \n",
    "                                                target_size = (image_size,image_size))\n",
    "    img = tf.keras.utils.img_to_array(img) \n",
    "    img = preprocess_input(img)\n",
    "    return img"
   ]
  },
  {
   "cell_type": "code",
   "execution_count": 8,
   "id": "d7edd171",
   "metadata": {
    "execution": {
     "iopub.execute_input": "2023-02-15T01:18:07.497704Z",
     "iopub.status.busy": "2023-02-15T01:18:07.497524Z",
     "iopub.status.idle": "2023-02-15T01:18:07.525380Z",
     "shell.execute_reply": "2023-02-15T01:18:07.524691Z",
     "shell.execute_reply.started": "2023-02-15T01:18:07.497687Z"
    }
   },
   "outputs": [],
   "source": [
    "train_df = pd.read_csv('data/train_truth.csv')"
   ]
  },
  {
   "cell_type": "code",
   "execution_count": 9,
   "id": "281b4490",
   "metadata": {
    "execution": {
     "iopub.execute_input": "2023-02-15T01:18:07.526447Z",
     "iopub.status.busy": "2023-02-15T01:18:07.526223Z",
     "iopub.status.idle": "2023-02-15T01:18:07.533964Z",
     "shell.execute_reply": "2023-02-15T01:18:07.533404Z",
     "shell.execute_reply.started": "2023-02-15T01:18:07.526419Z"
    }
   },
   "outputs": [],
   "source": [
    "class_label, weights = get_class_label_weight(train_df)"
   ]
  },
  {
   "cell_type": "code",
   "execution_count": 10,
   "id": "3c68bffe",
   "metadata": {
    "execution": {
     "iopub.execute_input": "2023-02-15T01:18:07.534830Z",
     "iopub.status.busy": "2023-02-15T01:18:07.534661Z",
     "iopub.status.idle": "2023-02-15T01:18:07.537783Z",
     "shell.execute_reply": "2023-02-15T01:18:07.537235Z",
     "shell.execute_reply.started": "2023-02-15T01:18:07.534813Z"
    }
   },
   "outputs": [],
   "source": [
    "shuffle_df = lambda x : x.sample(frac=1) "
   ]
  },
  {
   "cell_type": "code",
   "execution_count": 11,
   "id": "a011d83b",
   "metadata": {
    "execution": {
     "iopub.execute_input": "2023-02-15T01:18:07.538769Z",
     "iopub.status.busy": "2023-02-15T01:18:07.538615Z",
     "iopub.status.idle": "2023-02-15T01:18:07.542623Z",
     "shell.execute_reply": "2023-02-15T01:18:07.542035Z",
     "shell.execute_reply.started": "2023-02-15T01:18:07.538762Z"
    }
   },
   "outputs": [],
   "source": [
    "def get_local_feature(df, label, num = 5):\n",
    "    img_id = df[df['dx'] == label]\n",
    "    img_id = df.sample(num)[['image_id','dx']]\n",
    "    l = []\n",
    "    for row in img_id.iterrows():\n",
    "        row = row[1]\n",
    "        path = f'data/train/{row[\"dx\"]}/{row[\"image_id\"]}.jpg'\n",
    "        l.append(get_img(path))\n",
    "    return np.array(l)"
   ]
  },
  {
   "cell_type": "code",
   "execution_count": 12,
   "id": "05641177",
   "metadata": {
    "execution": {
     "iopub.execute_input": "2023-02-15T01:18:07.544560Z",
     "iopub.status.busy": "2023-02-15T01:18:07.544388Z",
     "iopub.status.idle": "2023-02-15T01:18:07.550485Z",
     "shell.execute_reply": "2023-02-15T01:18:07.549955Z",
     "shell.execute_reply.started": "2023-02-15T01:18:07.544546Z"
    }
   },
   "outputs": [],
   "source": [
    "class Causal_Model(tf.keras.Model):\n",
    "    def __init__(self, num_classes=7, class_weights=None):\n",
    "        super().__init__()\n",
    "\n",
    "        # Class Weight\n",
    "        self.class_weights = class_weights \n",
    "        \n",
    "        # Pooling for local features for each image\n",
    "        self.pooled = tf.keras.layers.GlobalAveragePooling2D()\n",
    "\n",
    "        # Post-Concatenation\n",
    "        self.dense_1 = tf.keras.layers.Dense(1024, activation='relu')\n",
    "        self.dense_2 = tf.keras.layers.Dense(1024, activation='relu')\n",
    "\n",
    "        # Prediction Layer\n",
    "        self.prediction = tf.keras.layers.Dense(num_classes, activation='softmax')\n",
    "    \n",
    "    def call(self, global_feature, local_feature):\n",
    "        local_feature = self.pooled(local_feature)\n",
    "        x = tf.concat([global_feature, local_feature], 1)\n",
    "        x = tf.keras.layers.Dropout(0.2)(x)\n",
    "        x = self.dense_1(x)\n",
    "        x = self.dense_2(x)\n",
    "        x = self.prediction(x)\n",
    "        return tf.math.reduce_mean(x, axis = 0)\n",
    "    \n",
    "    def build_graph(self, local_feature_shape = (35, 35, 256), global_feature_shape = (2048)):\n",
    "        local_feature = tf.keras.layers.Input(shape = local_feature_shape, dtype='float32')\n",
    "        global_feature = tf.keras.layers.Input(shape = global_feature_shape)\n",
    "        \n",
    "        return tf.keras.Model(inputs=[global_feature, local_feature], \n",
    "                              outputs=self.call(global_feature, local_feature))"
   ]
  },
  {
   "cell_type": "code",
   "execution_count": 13,
   "id": "dba7423f",
   "metadata": {
    "execution": {
     "iopub.execute_input": "2023-02-15T01:18:07.551437Z",
     "iopub.status.busy": "2023-02-15T01:18:07.551256Z",
     "iopub.status.idle": "2023-02-15T01:18:07.595860Z",
     "shell.execute_reply": "2023-02-15T01:18:07.595355Z",
     "shell.execute_reply.started": "2023-02-15T01:18:07.551418Z"
    }
   },
   "outputs": [
    {
     "name": "stdout",
     "output_type": "stream",
     "text": [
      "Model: \"model\"\n",
      "__________________________________________________________________________________________________\n",
      " Layer (type)                   Output Shape         Param #     Connected to                     \n",
      "==================================================================================================\n",
      " input_1 (InputLayer)           [(None, 35, 35, 256  0           []                               \n",
      "                                )]                                                                \n",
      "                                                                                                  \n",
      " input_2 (InputLayer)           [(None, 2048)]       0           []                               \n",
      "                                                                                                  \n",
      " global_average_pooling2d (Glob  (None, 256)         0           ['input_1[0][0]']                \n",
      " alAveragePooling2D)                                                                              \n",
      "                                                                                                  \n",
      " tf.concat (TFOpLambda)         (None, 2304)         0           ['input_2[0][0]',                \n",
      "                                                                  'global_average_pooling2d[0][0]'\n",
      "                                                                 ]                                \n",
      "                                                                                                  \n",
      " dropout (Dropout)              (None, 2304)         0           ['tf.concat[0][0]']              \n",
      "                                                                                                  \n",
      " dense (Dense)                  (None, 1024)         2360320     ['dropout[0][0]']                \n",
      "                                                                                                  \n",
      " dense_1 (Dense)                (None, 1024)         1049600     ['dense[0][0]']                  \n",
      "                                                                                                  \n",
      " dense_2 (Dense)                (None, 7)            7175        ['dense_1[0][0]']                \n",
      "                                                                                                  \n",
      " tf.math.reduce_mean (TFOpLambd  (7,)                0           ['dense_2[0][0]']                \n",
      " a)                                                                                               \n",
      "                                                                                                  \n",
      "==================================================================================================\n",
      "Total params: 3,417,095\n",
      "Trainable params: 3,417,095\n",
      "Non-trainable params: 0\n",
      "__________________________________________________________________________________________________\n"
     ]
    }
   ],
   "source": [
    "cm = Causal_Model()\n",
    "cm.build_graph().summary()"
   ]
  },
  {
   "cell_type": "code",
   "execution_count": 14,
   "id": "c1a3e33b",
   "metadata": {
    "execution": {
     "iopub.execute_input": "2023-02-15T01:18:07.596745Z",
     "iopub.status.busy": "2023-02-15T01:18:07.596569Z",
     "iopub.status.idle": "2023-02-15T01:18:07.815757Z",
     "shell.execute_reply": "2023-02-15T01:18:07.815110Z",
     "shell.execute_reply.started": "2023-02-15T01:18:07.596740Z"
    }
   },
   "outputs": [
    {
     "name": "stdout",
     "output_type": "stream",
     "text": [
      "WARNING:tensorflow:No training configuration found in save file, so the model was *not* compiled. Compile it manually.\n",
      "loaded previous model weights...\n",
      "Model: \"model_1\"\n",
      "__________________________________________________________________________________________________\n",
      " Layer (type)                   Output Shape         Param #     Connected to                     \n",
      "==================================================================================================\n",
      " input_3 (InputLayer)           [(None, 35, 35, 256  0           []                               \n",
      "                                )]                                                                \n",
      "                                                                                                  \n",
      " input_4 (InputLayer)           [(None, 2048)]       0           []                               \n",
      "                                                                                                  \n",
      " global_average_pooling2d (Glob  (None, 256)         0           ['input_3[0][0]']                \n",
      " alAveragePooling2D)                                                                              \n",
      "                                                                                                  \n",
      " tf.concat_1 (TFOpLambda)       (None, 2304)         0           ['input_4[0][0]',                \n",
      "                                                                  'global_average_pooling2d[1][0]'\n",
      "                                                                 ]                                \n",
      "                                                                                                  \n",
      " dropout_1 (Dropout)            (None, 2304)         0           ['tf.concat_1[0][0]']            \n",
      "                                                                                                  \n",
      " dense (Dense)                  (None, 1024)         2360320     ['dropout_1[0][0]']              \n",
      "                                                                                                  \n",
      " dense_1 (Dense)                (None, 1024)         1049600     ['dense[1][0]']                  \n",
      "                                                                                                  \n",
      " dense_2 (Dense)                (None, 7)            7175        ['dense_1[1][0]']                \n",
      "                                                                                                  \n",
      " tf.math.reduce_mean_1 (TFOpLam  (7,)                0           ['dense_2[1][0]']                \n",
      " bda)                                                                                             \n",
      "                                                                                                  \n",
      "==================================================================================================\n",
      "Total params: 3,417,095\n",
      "Trainable params: 3,417,095\n",
      "Non-trainable params: 0\n",
      "__________________________________________________________________________________________________\n"
     ]
    }
   ],
   "source": [
    "retrain = True\n",
    "model_name = 'causal'\n",
    "if retrain and model_name in os.listdir('model'):\n",
    "    model_weights = tf.keras.models.load_model(f'model/{model_name}')\n",
    "    cm.set_weights(model_weights.get_weights()) \n",
    "    print('loaded previous model weights...')\n",
    "cm.build_graph().summary()"
   ]
  },
  {
   "cell_type": "code",
   "execution_count": 15,
   "id": "2dc23813",
   "metadata": {
    "execution": {
     "iopub.execute_input": "2023-02-15T01:18:07.817221Z",
     "iopub.status.busy": "2023-02-15T01:18:07.816960Z",
     "iopub.status.idle": "2023-02-15T01:18:07.821349Z",
     "shell.execute_reply": "2023-02-15T01:18:07.820724Z",
     "shell.execute_reply.started": "2023-02-15T01:18:07.817185Z"
    }
   },
   "outputs": [],
   "source": [
    "loss_object = tf.keras.losses.SparseCategoricalCrossentropy(from_logits=False)\n",
    "optimizer = tf.keras.optimizers.Adam(learning_rate=1e-7)"
   ]
  },
  {
   "cell_type": "code",
   "execution_count": 16,
   "id": "f5a96bb4",
   "metadata": {
    "execution": {
     "iopub.execute_input": "2023-02-15T01:18:07.822549Z",
     "iopub.status.busy": "2023-02-15T01:18:07.822240Z",
     "iopub.status.idle": "2023-02-15T01:18:07.827967Z",
     "shell.execute_reply": "2023-02-15T01:18:07.827021Z",
     "shell.execute_reply.started": "2023-02-15T01:18:07.822524Z"
    }
   },
   "outputs": [],
   "source": [
    "@tf.function\n",
    "def loss_model(model, global_feature, local_feature, y, class_weight, training=False):\n",
    "    y_pred = model(global_feature, local_feature, training=training)\n",
    "    loss = loss_object(y, y_pred, sample_weight=class_weight)\n",
    "    return loss\n",
    "\n",
    "@tf.function\n",
    "def grad_cm(model, global_feature, local_feature, y, class_weight):\n",
    "    with tf.GradientTape() as tape:\n",
    "        loss_value = loss_model(model, global_feature, local_feature, y, class_weight, training=True)\n",
    "    return loss_value, tape.gradient(loss_value, model.trainable_variables)"
   ]
  },
  {
   "cell_type": "code",
   "execution_count": 17,
   "id": "cf8e1601",
   "metadata": {
    "execution": {
     "iopub.execute_input": "2023-02-15T01:18:07.829190Z",
     "iopub.status.busy": "2023-02-15T01:18:07.829066Z",
     "iopub.status.idle": "2023-02-15T01:18:07.832775Z",
     "shell.execute_reply": "2023-02-15T01:18:07.832067Z",
     "shell.execute_reply.started": "2023-02-15T01:18:07.829176Z"
    }
   },
   "outputs": [],
   "source": [
    "def get_test_local_feature(df, folder,  num = 5):\n",
    "    img_id = df.sample(num)['image_id']\n",
    "    l = []\n",
    "    for img in img_id:\n",
    "        path = f'data/{folder}/{img}.jpg'\n",
    "        l.append(get_img(path))\n",
    "    return np.array(l)"
   ]
  },
  {
   "cell_type": "code",
   "execution_count": 18,
   "id": "382888b3",
   "metadata": {
    "execution": {
     "iopub.execute_input": "2023-02-15T01:18:07.833557Z",
     "iopub.status.busy": "2023-02-15T01:18:07.833404Z",
     "iopub.status.idle": "2023-02-15T01:18:07.836360Z",
     "shell.execute_reply": "2023-02-15T01:18:07.835892Z",
     "shell.execute_reply.started": "2023-02-15T01:18:07.833550Z"
    }
   },
   "outputs": [],
   "source": [
    "def repeat_tensor(arr, repeat):\n",
    "    return tf.repeat(arr, repeats = repeat, axis = 0)"
   ]
  },
  {
   "cell_type": "code",
   "execution_count": 19,
   "id": "9a7b840a",
   "metadata": {
    "execution": {
     "iopub.execute_input": "2023-02-15T01:18:07.837435Z",
     "iopub.status.busy": "2023-02-15T01:18:07.837267Z",
     "iopub.status.idle": "2023-02-15T01:18:07.842935Z",
     "shell.execute_reply": "2023-02-15T01:18:07.842089Z",
     "shell.execute_reply.started": "2023-02-15T01:18:07.837421Z"
    }
   },
   "outputs": [],
   "source": [
    "def get_val_acc(cm, test_df, folder, end = \" \", num = 5):\n",
    "\n",
    "    acc = 0\n",
    "    y_true, y_pred = [], []\n",
    "\n",
    "    for row in test_df.iterrows():\n",
    "        row = row[1]\n",
    "\n",
    "        img_path = row['image_id']\n",
    "        img = get_img(f'data/{folder}/{img_path}.jpg').reshape(-1, 299,299, 3)\n",
    "\n",
    "        label = class_label[row['dx']]\n",
    "\n",
    "        global_feature = global_model(img)\n",
    "        global_feature = repeat_tensor(global_feature, [num])\n",
    "\n",
    "        local_feature = local_model(get_test_local_feature(test_df, folder, num = num))\n",
    "        pred = np.argmax(cm(global_feature, local_feature))    \n",
    "\n",
    "        y_true.append(label)\n",
    "        y_pred.append(pred)\n",
    "\n",
    "        if pred == label:\n",
    "            acc += 1\n",
    "\n",
    "    print('[Acc] : ', (acc/len(test_df)), end = end)"
   ]
  },
  {
   "cell_type": "code",
   "execution_count": 20,
   "id": "cc1f6d50",
   "metadata": {
    "execution": {
     "iopub.execute_input": "2023-02-15T01:18:07.843740Z",
     "iopub.status.busy": "2023-02-15T01:18:07.843554Z",
     "iopub.status.idle": "2023-02-15T01:18:07.853037Z",
     "shell.execute_reply": "2023-02-15T01:18:07.852509Z",
     "shell.execute_reply.started": "2023-02-15T01:18:07.843740Z"
    }
   },
   "outputs": [],
   "source": [
    "val_df = pd.read_csv('data/val_truth.csv')"
   ]
  },
  {
   "cell_type": "code",
   "execution_count": 21,
   "id": "c0227d17",
   "metadata": {
    "execution": {
     "iopub.execute_input": "2023-02-15T01:18:07.854776Z",
     "iopub.status.busy": "2023-02-15T01:18:07.854606Z",
     "iopub.status.idle": "2023-02-15T01:18:07.857669Z",
     "shell.execute_reply": "2023-02-15T01:18:07.857170Z",
     "shell.execute_reply.started": "2023-02-15T01:18:07.854760Z"
    }
   },
   "outputs": [],
   "source": [
    "epochs = range(11)\n",
    "num = 15"
   ]
  },
  {
   "cell_type": "code",
   "execution_count": null,
   "id": "15ac0e4b",
   "metadata": {
    "execution": {
     "iopub.status.busy": "2023-02-15T01:17:52.548099Z",
     "iopub.status.idle": "2023-02-15T01:17:52.548300Z",
     "shell.execute_reply": "2023-02-15T01:17:52.548214Z",
     "shell.execute_reply.started": "2023-02-15T01:17:52.548204Z"
    }
   },
   "outputs": [],
   "source": [
    "for epoch in tqdm(epochs, desc='Epochs'):\n",
    "    loss, steps = 0, 0 \n",
    "    df = shuffle_df(train_df)\n",
    "    t1 = time.time()\n",
    "    \n",
    "    for _, row in tqdm(df.iterrows(), total=len(df)):\n",
    "        \n",
    "        img_id = row['image_id']\n",
    "        label = row['dx']\n",
    "        \n",
    "        img_path = f'data/train/{label}/{img_id}.jpg'\n",
    "        img = get_img(img_path).reshape(-1, 299,299, 3)\n",
    "        \n",
    "        global_feature = global_model(img)\n",
    "        global_feature = repeat_tensor(global_feature, [num])\n",
    "        \n",
    "        local_feature = local_model(get_local_feature(train_df, label, num = num))\n",
    "        \n",
    "        label_idx = np.array([class_label[label]])        \n",
    "        weight = np.array([weights[label_idx[0]]])\n",
    "\n",
    "        loss_value, grads = grad_cm(cm, global_feature, local_feature, label_idx, weight)\n",
    "        optimizer.apply_gradients(zip(grads, cm.trainable_weights))   \n",
    "        \n",
    "        loss += loss_value.numpy()\n",
    "        steps += 1\n",
    "    \n",
    "    print(f\"[{epoch}] Loss : {loss/steps}\", end = \" \")\n",
    "    \n",
    "    if epoch > 0 and epoch % 2 == 0 :\n",
    "        cm.save('model/causal')\n",
    "    if epoch % 1 == 0:\n",
    "        get_val_acc(cm, val_df, 'val')\n",
    "    print(f\"[Time] : {time.time() - t1} sec\")"
   ]
  },
  {
   "cell_type": "code",
   "execution_count": 25,
   "id": "4715abb9",
   "metadata": {
    "execution": {
     "iopub.execute_input": "2023-02-15T01:49:34.390276Z",
     "iopub.status.busy": "2023-02-15T01:49:34.389458Z",
     "iopub.status.idle": "2023-02-15T01:50:50.769394Z",
     "shell.execute_reply": "2023-02-15T01:50:50.768734Z",
     "shell.execute_reply.started": "2023-02-15T01:49:34.390254Z"
    }
   },
   "outputs": [
    {
     "data": {
      "application/vnd.jupyter.widget-view+json": {
       "model_id": "65f976967e074a008c50ead0d905e8c0",
       "version_major": 2,
       "version_minor": 0
      },
      "text/plain": [
       "  0%|          | 0/1001 [00:00<?, ?it/s]"
      ]
     },
     "metadata": {},
     "output_type": "display_data"
    },
    {
     "name": "stdout",
     "output_type": "stream",
     "text": [
      "              precision    recall  f1-score   support\n",
      "\n",
      "       akiec       0.54      0.71      0.61        31\n",
      "         bcc       0.81      0.81      0.81        54\n",
      "         bkl       0.70      0.67      0.68       117\n",
      "          df       1.00      0.36      0.53        14\n",
      "         mel       0.55      0.71      0.62       103\n",
      "          nv       0.94      0.90      0.92       663\n",
      "        vasc       0.95      0.95      0.95        19\n",
      "\n",
      "    accuracy                           0.84      1001\n",
      "   macro avg       0.78      0.73      0.73      1001\n",
      "weighted avg       0.85      0.84      0.84      1001\n",
      "\n"
     ]
    },
    {
     "data": {
      "text/plain": [
       "<sklearn.metrics._plot.confusion_matrix.ConfusionMatrixDisplay at 0x7f7918ba0c10>"
      ]
     },
     "execution_count": 25,
     "metadata": {},
     "output_type": "execute_result"
    },
    {
     "data": {
      "image/png": "[encoded data removed]",
      "text/plain": [
       "<Figure size 432x288 with 2 Axes>"
      ]
     },
     "metadata": {
      "needs_background": "light"
     },
     "output_type": "display_data"
    }
   ],
   "source": [
    "test_df = pd.read_csv('data/test_truth.csv')\n",
    "y_true, y_pred = [], []\n",
    "\n",
    "pred_num = 15\n",
    "\n",
    "for _, row in tqdm(test_df.iterrows(), total = len(test_df)):    \n",
    "    img_path = row['image_id']\n",
    "    img = get_img(f'data/test/{img_path}.jpg').reshape(-1, 299,299, 3)\n",
    "\n",
    "    label = class_label[row['dx']]\n",
    "    \n",
    "    global_feature = global_model(img)\n",
    "    global_feature = repeat_tensor(global_feature, [pred_num])\n",
    "    \n",
    "    local_feature = local_model(get_test_local_feature(test_df, \"test\", num = pred_num))\n",
    "    pred = np.argmax(cm(global_feature, local_feature))    \n",
    "    \n",
    "    y_true.append(label)\n",
    "    y_pred.append(pred)\n",
    "\n",
    "print(classification_report(y_true, y_pred, target_names=class_label))\n",
    "\n",
    "matrix = confusion_matrix(y_true, y_pred)\n",
    "disp = ConfusionMatrixDisplay(confusion_matrix=matrix, display_labels = list(class_label.keys()))\n",
    "disp.plot()"
   ]
  },
  {
   "cell_type": "code",
   "execution_count": null,
   "id": "deb6137d",
   "metadata": {},
   "outputs": [],
   "source": [
    "def get_train_acc(train_df, cm, num=15):\n",
    "    acc = 0\n",
    "    for row in tqdm(train_df.iterrows(), total=len(train_df)):\n",
    "        row = row[1]\n",
    "\n",
    "        img_path = row['image_id']\n",
    "        label = row['dx']\n",
    "\n",
    "        img = get_img(f'data/train/{label}/{img_path}.jpg').reshape(-1, 299,299, 3)\n",
    "\n",
    "        global_feature = global_model(img)\n",
    "        global_feature = repeat_tensor(global_feature, [num])\n",
    "\n",
    "        local_feature = local_model(get_local_feature(train_df, row[\"dx\"]))\n",
    "        pred = np.argmax(cm(global_feature, local_feature))    \n",
    "\n",
    "        if pred == class_label[label]:\n",
    "            acc += 1\n",
    "\n",
    "    print('Acc : ', (acc/len(train_df)))"
   ]
  },
  {
   "cell_type": "code",
   "execution_count": null,
   "id": "7d24c776",
   "metadata": {},
   "outputs": [],
   "source": [
    "#get_train_acc(train_df, cm, num=5)"
   ]
  },
  {
   "cell_type": "code",
   "execution_count": null,
   "id": "df7d50ab-fc4b-4c6a-95f4-720dcc10d1c1",
   "metadata": {},
   "outputs": [],
   "source": []
  },
  {
   "cell_type": "code",
   "execution_count": null,
   "id": "dc380b43-4141-435c-a503-d763e45c0c1c",
   "metadata": {},
   "outputs": [],
   "source": []
  }
 ],
 "metadata": {
  "kernelspec": {
   "display_name": "Python 3 (ipykernel)",
   "language": "python",
   "name": "python3"
  },
  "language_info": {
   "codemirror_mode": {
    "name": "ipython",
    "version": 3
   },
   "file_extension": ".py",
   "mimetype": "text/x-python",
   "name": "python",
   "nbconvert_exporter": "python",
   "pygments_lexer": "ipython3",
   "version": "3.9.13"
  }
 },
 "nbformat": 4,
 "nbformat_minor": 5
}
