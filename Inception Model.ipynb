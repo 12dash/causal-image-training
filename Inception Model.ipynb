{
 "cells": [
  {
   "cell_type": "code",
   "execution_count": 1,
   "id": "09858cb7",
   "metadata": {
    "execution": {
     "iopub.status.idle": "2023-01-26T03:07:24.018595Z"
    }
   },
   "outputs": [],
   "source": [
    "import pandas as pd\n",
    "import numpy as np\n",
    "import tensorflow as tf\n",
    "\n",
    "from sklearn.utils import class_weight\n",
    "from sklearn.metrics import accuracy_score\n",
    "from tqdm.notebook import tqdm"
   ]
  },
  {
   "cell_type": "code",
   "execution_count": 2,
   "id": "e053b6b4",
   "metadata": {
    "execution": {
     "iopub.execute_input": "2023-01-26T03:07:24.019821Z",
     "iopub.status.busy": "2023-01-26T03:07:24.019444Z",
     "iopub.status.idle": "2023-01-26T03:07:24.025436Z"
    }
   },
   "outputs": [],
   "source": [
    "data_dir = 'data/'\n",
    "\n",
    "image_size = 299\n",
    "batch_size = 16"
   ]
  },
  {
   "cell_type": "code",
   "execution_count": 3,
   "id": "262bb3df",
   "metadata": {
    "execution": {
     "iopub.execute_input": "2023-01-26T03:07:24.027446Z",
     "iopub.status.busy": "2023-01-26T03:07:24.026905Z",
     "iopub.status.idle": "2023-01-26T03:07:24.032391Z"
    }
   },
   "outputs": [],
   "source": [
    "def get_class_weight(ds):\n",
    "    y = np.concatenate([y for x, y in ds], axis=0)\n",
    "    class_weights = class_weight.compute_class_weight('balanced',\n",
    "                                                 classes = np.unique(y),\n",
    "                                                 y = y)\n",
    "    return class_weights"
   ]
  },
  {
   "cell_type": "code",
   "execution_count": 4,
   "id": "b71853da",
   "metadata": {
    "execution": {
     "iopub.execute_input": "2023-01-26T03:07:24.037022Z",
     "iopub.status.busy": "2023-01-26T03:07:24.036860Z",
     "iopub.status.idle": "2023-01-26T03:07:31.031705Z"
    }
   },
   "outputs": [
    {
     "name": "stdout",
     "output_type": "stream",
     "text": [
      "Found 8012 files belonging to 7 classes.\n",
      "Metal device set to: Apple M2\n"
     ]
    },
    {
     "name": "stderr",
     "output_type": "stream",
     "text": [
      "2023-01-27 18:36:25.542292: I tensorflow/core/common_runtime/pluggable_device/pluggable_device_factory.cc:305] Could not identify NUMA node of platform GPU ID 0, defaulting to 0. Your kernel may not have been built with NUMA support.\n",
      "2023-01-27 18:36:25.542394: I tensorflow/core/common_runtime/pluggable_device/pluggable_device_factory.cc:271] Created TensorFlow device (/job:localhost/replica:0/task:0/device:GPU:0 with 0 MB memory) -> physical PluggableDevice (device: 0, name: METAL, pci bus id: <undefined>)\n",
      "2023-01-27 18:36:25.597604: W tensorflow/core/platform/profile_utils/cpu_utils.cc:128] Failed to get CPU frequency: 0 Hz\n"
     ]
    }
   ],
   "source": [
    "train_ds = tf.keras.utils.image_dataset_from_directory(data_dir+\"train\", seed=123, \n",
    "                                                       image_size=(image_size, image_size), \n",
    "                                                       batch_size=batch_size)\n",
    "class_names = train_ds.class_names\n",
    "num_classes = len(class_names)\n",
    "\n",
    "class_weights = get_class_weight(train_ds)\n",
    "class_weights = dict(enumerate(class_weights))"
   ]
  },
  {
   "cell_type": "code",
   "execution_count": 5,
   "id": "5391506a",
   "metadata": {
    "execution": {
     "iopub.execute_input": "2023-01-26T03:07:31.034307Z",
     "iopub.status.busy": "2023-01-26T03:07:31.034139Z",
     "iopub.status.idle": "2023-01-26T03:07:31.081296Z"
    }
   },
   "outputs": [
    {
     "name": "stdout",
     "output_type": "stream",
     "text": [
      "Found 1002 files belonging to 1 classes.\n"
     ]
    }
   ],
   "source": [
    "val_ds = tf.keras.utils.image_dataset_from_directory(data_dir+'val',\n",
    "                                                     image_size=(image_size, image_size), \n",
    "                                                     batch_size=32,  \n",
    "                                                     shuffle=False, \n",
    "                                                     labels=None)"
   ]
  },
  {
   "cell_type": "code",
   "execution_count": 6,
   "id": "cdddabb4",
   "metadata": {
    "execution": {
     "iopub.execute_input": "2023-01-26T03:07:31.083648Z",
     "iopub.status.busy": "2023-01-26T03:07:31.083432Z",
     "iopub.status.idle": "2023-01-26T03:07:31.088143Z"
    }
   },
   "outputs": [],
   "source": [
    "AUTOTUNE = tf.data.AUTOTUNE\n",
    "\n",
    "train_ds = train_ds.cache().shuffle(1000).prefetch(buffer_size=AUTOTUNE)"
   ]
  },
  {
   "cell_type": "code",
   "execution_count": 7,
   "id": "0f1cceeb",
   "metadata": {
    "execution": {
     "iopub.execute_input": "2023-01-26T03:07:31.089554Z",
     "iopub.status.busy": "2023-01-26T03:07:31.089116Z",
     "iopub.status.idle": "2023-01-26T03:07:31.102616Z"
    }
   },
   "outputs": [],
   "source": [
    "data_augmentation = tf.keras.Sequential([\n",
    "  tf.keras.layers.RandomFlip('horizontal'),\n",
    "  tf.keras.layers.RandomRotation(0.2),\n",
    "])\n",
    "\n",
    "preprocess_input = tf.keras.applications.inception_v3.preprocess_input"
   ]
  },
  {
   "cell_type": "code",
   "execution_count": 8,
   "id": "3dbb35f8",
   "metadata": {
    "execution": {
     "iopub.execute_input": "2023-01-26T03:07:31.103784Z",
     "iopub.status.busy": "2023-01-26T03:07:31.103526Z",
     "iopub.status.idle": "2023-01-26T03:07:32.663495Z"
    }
   },
   "outputs": [],
   "source": [
    "base_model = tf.keras.applications.inception_v3.InceptionV3(input_shape=(image_size, image_size, 3), \n",
    "                                                            include_top=False, weights='imagenet')"
   ]
  },
  {
   "cell_type": "code",
   "execution_count": 9,
   "id": "d5a53307",
   "metadata": {
    "execution": {
     "iopub.execute_input": "2023-01-26T03:07:32.664640Z",
     "iopub.status.busy": "2023-01-26T03:07:32.664384Z",
     "iopub.status.idle": "2023-01-26T03:07:32.847924Z"
    }
   },
   "outputs": [],
   "source": [
    "train_ds = train_ds.map(lambda x,y : (preprocess_input(data_augmentation(x, training=True)), y))\n",
    "val_ds = val_ds.map(lambda x: preprocess_input(x))"
   ]
  },
  {
   "cell_type": "code",
   "execution_count": 10,
   "id": "7af4ddf7",
   "metadata": {
    "execution": {
     "iopub.execute_input": "2023-01-26T03:07:32.848975Z",
     "iopub.status.busy": "2023-01-26T03:07:32.848781Z",
     "iopub.status.idle": "2023-01-26T03:07:32.882826Z"
    }
   },
   "outputs": [],
   "source": [
    "train_base = True\n",
    "base_model.trainable = train_base\n",
    "\n",
    "global_average_layer = tf.keras.layers.GlobalAveragePooling2D()\n",
    "classification_layer = tf.keras.layers.Dense(1024, activation='relu')\n",
    "prediction_layer = tf.keras.layers.Dense(num_classes, activation='softmax')\n",
    "\n",
    "x = base_model.layers[-1].output\n",
    "\n",
    "x = global_average_layer(x)\n",
    "x = tf.keras.layers.Dropout(0.2)(x)\n",
    "x = classification_layer(x)\n",
    "outputs = prediction_layer(x)\n",
    "\n",
    "model = tf.keras.Model(base_model.input, outputs)"
   ]
  },
  {
   "cell_type": "code",
   "execution_count": 11,
   "id": "fa029bb9",
   "metadata": {
    "execution": {
     "iopub.execute_input": "2023-01-26T03:07:32.884329Z",
     "iopub.status.busy": "2023-01-26T03:07:32.883658Z",
     "iopub.status.idle": "2023-01-26T03:07:32.896572Z"
    }
   },
   "outputs": [],
   "source": [
    "base_learning_rate = 1e-5\n",
    "\n",
    "loss_fn   = tf.keras.losses.SparseCategoricalCrossentropy(from_logits=False)\n",
    "optimizer = tf.keras.optimizers.Adam(learning_rate=base_learning_rate)\n",
    "\n",
    "model.compile(optimizer=optimizer, loss=loss_fn, metrics=[\"acc\"])"
   ]
  },
  {
   "cell_type": "code",
   "execution_count": 12,
   "id": "6f06e86f",
   "metadata": {
    "execution": {
     "iopub.execute_input": "2023-01-26T03:07:32.897478Z",
     "iopub.status.busy": "2023-01-26T03:07:32.897295Z",
     "iopub.status.idle": "2023-01-26T03:07:32.900780Z"
    }
   },
   "outputs": [],
   "source": [
    "epochs = 30"
   ]
  },
  {
   "cell_type": "code",
   "execution_count": 13,
   "id": "61d3625d",
   "metadata": {
    "execution": {
     "iopub.execute_input": "2023-01-26T03:07:32.902111Z",
     "iopub.status.busy": "2023-01-26T03:07:32.901730Z",
     "iopub.status.idle": "2023-01-26T03:07:32.906524Z"
    }
   },
   "outputs": [],
   "source": [
    "def evaluate(model, ds, folder):\n",
    "    df = pd.read_csv(f'data/{folder}_truth.csv')[['image_id','dx']]\n",
    "    df = df.sort_values(by = 'image_id')\n",
    "    class_names = sorted(list(set(df['dx'])))\n",
    "    class_names = {name : idx for idx, name in enumerate(class_names)}\n",
    "    df['dx'] = df['dx'].apply(lambda x: class_names[x])\n",
    "    y_actual = list(df['dx'])\n",
    "        \n",
    "    y_pred = tf.convert_to_tensor([])\n",
    "    for batch_img in ds:\n",
    "        logit = model(batch_img, training = False)\n",
    "        pred = np.argmax(logit, axis = 1)\n",
    "        y_pred = tf.concat([y_pred, pred], axis = 0)\n",
    "\n",
    "    y_pred = y_pred.numpy()\n",
    "    print(\"acc :\", accuracy_score(y_actual, y_pred))"
   ]
  },
  {
   "cell_type": "code",
   "execution_count": 14,
   "id": "d29adaf0",
   "metadata": {
    "execution": {
     "iopub.execute_input": "2023-01-26T03:07:32.907314Z",
     "iopub.status.busy": "2023-01-26T03:07:32.907145Z",
     "iopub.status.idle": "2023-01-26T03:50:22.763628Z"
    }
   },
   "outputs": [
    {
     "ename": "InvalidArgumentError",
     "evalue": "Cannot assign a device for operation sequential/random_rotation/stateful_uniform/RngReadAndSkip: Could not satisfy explicit device specification '' because the node {{colocation_node sequential/random_rotation/stateful_uniform/RngReadAndSkip}} was colocated with a group of nodes that required incompatible device '/job:localhost/replica:0/task:0/device:GPU:0'. All available devices [/job:localhost/replica:0/task:0/device:CPU:0, /job:localhost/replica:0/task:0/device:GPU:0]. \nColocation Debug Info:\nColocation group had the following types and supported devices: \nRoot Member(assigned_device_name_index_=2 requested_device_name_='/job:localhost/replica:0/task:0/device:GPU:0' assigned_device_name_='/job:localhost/replica:0/task:0/device:GPU:0' resource_device_name_='/job:localhost/replica:0/task:0/device:GPU:0' supported_device_types_=[CPU] possible_devices_=[]\nRngReadAndSkip: CPU \n_Arg: GPU CPU \n\nColocation members, user-requested devices, and framework assigned devices, if any:\n  sequential_random_rotation_stateful_uniform_rngreadandskip_resource (_Arg)  framework assigned device=/job:localhost/replica:0/task:0/device:GPU:0\n  sequential/random_rotation/stateful_uniform/RngReadAndSkip (RngReadAndSkip) \n\n\t [[{{node sequential/random_rotation/stateful_uniform/RngReadAndSkip}}]] [Op:MakeIterator]",
     "output_type": "error",
     "traceback": [
      "\u001b[0;31m---------------------------------------------------------------------------\u001b[0m",
      "\u001b[0;31mInvalidArgumentError\u001b[0m                      Traceback (most recent call last)",
      "Cell \u001b[0;32mIn[14], line 1\u001b[0m\n\u001b[0;32m----> 1\u001b[0m _ \u001b[38;5;241m=\u001b[39m \u001b[43mmodel\u001b[49m\u001b[38;5;241;43m.\u001b[39;49m\u001b[43mfit\u001b[49m\u001b[43m(\u001b[49m\u001b[43mtrain_ds\u001b[49m\u001b[43m,\u001b[49m\u001b[43m \u001b[49m\u001b[43mepochs\u001b[49m\u001b[43m \u001b[49m\u001b[38;5;241;43m=\u001b[39;49m\u001b[43m \u001b[49m\u001b[43mepochs\u001b[49m\u001b[43m,\u001b[49m\u001b[43m \u001b[49m\u001b[43mclass_weight\u001b[49m\u001b[43m \u001b[49m\u001b[38;5;241;43m=\u001b[39;49m\u001b[43m \u001b[49m\u001b[43mclass_weights\u001b[49m\u001b[43m)\u001b[49m\n",
      "File \u001b[0;32m~/miniconda/lib/python3.10/site-packages/keras/utils/traceback_utils.py:67\u001b[0m, in \u001b[0;36mfilter_traceback.<locals>.error_handler\u001b[0;34m(*args, **kwargs)\u001b[0m\n\u001b[1;32m     65\u001b[0m \u001b[38;5;28;01mexcept\u001b[39;00m \u001b[38;5;167;01mException\u001b[39;00m \u001b[38;5;28;01mas\u001b[39;00m e:  \u001b[38;5;66;03m# pylint: disable=broad-except\u001b[39;00m\n\u001b[1;32m     66\u001b[0m   filtered_tb \u001b[38;5;241m=\u001b[39m _process_traceback_frames(e\u001b[38;5;241m.\u001b[39m__traceback__)\n\u001b[0;32m---> 67\u001b[0m   \u001b[38;5;28;01mraise\u001b[39;00m e\u001b[38;5;241m.\u001b[39mwith_traceback(filtered_tb) \u001b[38;5;28;01mfrom\u001b[39;00m \u001b[38;5;28mNone\u001b[39m\n\u001b[1;32m     68\u001b[0m \u001b[38;5;28;01mfinally\u001b[39;00m:\n\u001b[1;32m     69\u001b[0m   \u001b[38;5;28;01mdel\u001b[39;00m filtered_tb\n",
      "File \u001b[0;32m~/miniconda/lib/python3.10/site-packages/tensorflow/python/framework/ops.py:7164\u001b[0m, in \u001b[0;36mraise_from_not_ok_status\u001b[0;34m(e, name)\u001b[0m\n\u001b[1;32m   7162\u001b[0m \u001b[38;5;28;01mdef\u001b[39;00m \u001b[38;5;21mraise_from_not_ok_status\u001b[39m(e, name):\n\u001b[1;32m   7163\u001b[0m   e\u001b[38;5;241m.\u001b[39mmessage \u001b[38;5;241m+\u001b[39m\u001b[38;5;241m=\u001b[39m (\u001b[38;5;124m\"\u001b[39m\u001b[38;5;124m name: \u001b[39m\u001b[38;5;124m\"\u001b[39m \u001b[38;5;241m+\u001b[39m name \u001b[38;5;28;01mif\u001b[39;00m name \u001b[38;5;129;01mis\u001b[39;00m \u001b[38;5;129;01mnot\u001b[39;00m \u001b[38;5;28;01mNone\u001b[39;00m \u001b[38;5;28;01melse\u001b[39;00m \u001b[38;5;124m\"\u001b[39m\u001b[38;5;124m\"\u001b[39m)\n\u001b[0;32m-> 7164\u001b[0m   \u001b[38;5;28;01mraise\u001b[39;00m core\u001b[38;5;241m.\u001b[39m_status_to_exception(e) \u001b[38;5;28;01mfrom\u001b[39;00m \u001b[38;5;28mNone\u001b[39m\n",
      "\u001b[0;31mInvalidArgumentError\u001b[0m: Cannot assign a device for operation sequential/random_rotation/stateful_uniform/RngReadAndSkip: Could not satisfy explicit device specification '' because the node {{colocation_node sequential/random_rotation/stateful_uniform/RngReadAndSkip}} was colocated with a group of nodes that required incompatible device '/job:localhost/replica:0/task:0/device:GPU:0'. All available devices [/job:localhost/replica:0/task:0/device:CPU:0, /job:localhost/replica:0/task:0/device:GPU:0]. \nColocation Debug Info:\nColocation group had the following types and supported devices: \nRoot Member(assigned_device_name_index_=2 requested_device_name_='/job:localhost/replica:0/task:0/device:GPU:0' assigned_device_name_='/job:localhost/replica:0/task:0/device:GPU:0' resource_device_name_='/job:localhost/replica:0/task:0/device:GPU:0' supported_device_types_=[CPU] possible_devices_=[]\nRngReadAndSkip: CPU \n_Arg: GPU CPU \n\nColocation members, user-requested devices, and framework assigned devices, if any:\n  sequential_random_rotation_stateful_uniform_rngreadandskip_resource (_Arg)  framework assigned device=/job:localhost/replica:0/task:0/device:GPU:0\n  sequential/random_rotation/stateful_uniform/RngReadAndSkip (RngReadAndSkip) \n\n\t [[{{node sequential/random_rotation/stateful_uniform/RngReadAndSkip}}]] [Op:MakeIterator]"
     ]
    }
   ],
   "source": [
    "_ = model.fit(train_ds, epochs = epochs, class_weight = class_weights)"
   ]
  },
  {
   "cell_type": "code",
   "execution_count": null,
   "id": "485cd016-4c8a-477e-b948-29eed7c2154d",
   "metadata": {
    "execution": {
     "iopub.execute_input": "2023-01-26T03:50:22.766714Z",
     "iopub.status.busy": "2023-01-26T03:50:22.766452Z",
     "iopub.status.idle": "2023-01-26T03:50:25.498474Z"
    }
   },
   "outputs": [],
   "source": [
    "evaluate(model, val_ds, 'val')"
   ]
  },
  {
   "cell_type": "code",
   "execution_count": null,
   "id": "f6297a80-08bc-4ed7-8c76-b1827f08bc9b",
   "metadata": {
    "execution": {
     "iopub.execute_input": "2023-01-26T03:50:25.499996Z",
     "iopub.status.busy": "2023-01-26T03:50:25.499784Z",
     "iopub.status.idle": "2023-01-26T03:50:28.014598Z"
    }
   },
   "outputs": [],
   "source": [
    "test_ds = tf.keras.utils.image_dataset_from_directory(data_dir+'test',\n",
    "                                                     image_size=(image_size, image_size), \n",
    "                                                     batch_size=32, \n",
    "                                                     shuffle=False, \n",
    "                                                     labels=None)\n",
    "test_ds = test_ds.map(lambda x: preprocess_input(x))   \n",
    "evaluate(model, test_ds, 'test')"
   ]
  },
  {
   "cell_type": "code",
   "execution_count": null,
   "id": "972254a0",
   "metadata": {
    "execution": {
     "iopub.execute_input": "2023-01-26T03:50:28.015953Z",
     "iopub.status.busy": "2023-01-26T03:50:28.015411Z",
     "iopub.status.idle": "2023-01-26T03:51:15.789485Z"
    }
   },
   "outputs": [],
   "source": [
    "model.save('model/inception')"
   ]
  }
 ],
 "metadata": {
  "kernelspec": {
   "display_name": "Python 3 (ipykernel)",
   "language": "python",
   "name": "python3"
  },
  "language_info": {
   "codemirror_mode": {
    "name": "ipython",
    "version": 3
   },
   "file_extension": ".py",
   "mimetype": "text/x-python",
   "name": "python",
   "nbconvert_exporter": "python",
   "pygments_lexer": "ipython3",
   "version": "3.10.8"
  }
 },
 "nbformat": 4,
 "nbformat_minor": 5
}
