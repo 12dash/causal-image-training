{
 "cells": [
  {
   "cell_type": "code",
   "execution_count": 1,
   "id": "09858cb7",
   "metadata": {},
   "outputs": [],
   "source": [
    "import pandas as pd\n",
    "import numpy as np\n",
    "import tensorflow as tf\n",
    "\n",
    "from sklearn.utils import class_weight\n",
    "from tqdm.notebook import tqdm"
   ]
  },
  {
   "cell_type": "code",
   "execution_count": 2,
   "id": "e053b6b4",
   "metadata": {},
   "outputs": [],
   "source": [
    "data_dir = 'data/'\n",
    "\n",
    "image_size = 299\n",
    "batch_size = 16"
   ]
  },
  {
   "cell_type": "code",
   "execution_count": 3,
   "id": "262bb3df",
   "metadata": {},
   "outputs": [],
   "source": [
    "def get_class_weight(ds):\n",
    "    y = np.concatenate([y for x, y in ds], axis=0)\n",
    "    class_weights = class_weight.compute_class_weight('balanced',\n",
    "                                                 classes = np.unique(y),\n",
    "                                                 y = y)\n",
    "    return class_weights"
   ]
  },
  {
   "cell_type": "code",
   "execution_count": 4,
   "id": "b71853da",
   "metadata": {},
   "outputs": [
    {
     "name": "stdout",
     "output_type": "stream",
     "text": [
      "Found 8012 files belonging to 7 classes.\n"
     ]
    },
    {
     "name": "stderr",
     "output_type": "stream",
     "text": [
      "2023-01-25 20:54:23.823131: W tensorflow/core/platform/profile_utils/cpu_utils.cc:128] Failed to get CPU frequency: 0 Hz\n"
     ]
    }
   ],
   "source": [
    "train_ds = tf.keras.utils.image_dataset_from_directory(data_dir+\"train\", seed=123, \n",
    "                                                       image_size=(image_size, image_size), \n",
    "                                                       batch_size=batch_size)\n",
    "class_names = train_ds.class_names\n",
    "num_classes = len(class_names)\n",
    "\n",
    "class_weights = get_class_weight(train_ds)\n",
    "class_weights = dict(enumerate(class_weights))"
   ]
  },
  {
   "cell_type": "code",
   "execution_count": 5,
   "id": "5391506a",
   "metadata": {},
   "outputs": [
    {
     "name": "stdout",
     "output_type": "stream",
     "text": [
      "Found 1002 files belonging to 1 classes.\n"
     ]
    }
   ],
   "source": [
    "val_ds = tf.keras.utils.image_dataset_from_directory(data_dir+'val',\n",
    "                                                     image_size=(image_size, image_size), \n",
    "                                                     batch_size=1, \n",
    "                                                     shuffle=False, \n",
    "                                                     labels=None)"
   ]
  },
  {
   "cell_type": "code",
   "execution_count": 6,
   "id": "72ddc352",
   "metadata": {},
   "outputs": [],
   "source": [
    "val_df = pd.read_csv('data/val_truth.csv')[['image_id','dx']]\n",
    "val_df = val_df.sort_values(by = 'image_id')"
   ]
  },
  {
   "cell_type": "code",
   "execution_count": 7,
   "id": "cdddabb4",
   "metadata": {},
   "outputs": [],
   "source": [
    "AUTOTUNE = tf.data.AUTOTUNE\n",
    "\n",
    "train_ds = train_ds.cache().shuffle(1000).prefetch(buffer_size=AUTOTUNE)"
   ]
  },
  {
   "cell_type": "code",
   "execution_count": 8,
   "id": "0f1cceeb",
   "metadata": {},
   "outputs": [],
   "source": [
    "data_augmentation = tf.keras.Sequential([\n",
    "  tf.keras.layers.RandomFlip('horizontal'),\n",
    "  tf.keras.layers.RandomRotation(0.2),\n",
    "])\n",
    "\n",
    "preprocess_input = tf.keras.applications.inception_v3.preprocess_input"
   ]
  },
  {
   "cell_type": "code",
   "execution_count": 9,
   "id": "3dbb35f8",
   "metadata": {},
   "outputs": [],
   "source": [
    "base_model = tf.keras.applications.inception_v3.InceptionV3(input_shape=(image_size, image_size, 3), \n",
    "                                                            include_top=False, weights='imagenet')"
   ]
  },
  {
   "cell_type": "code",
   "execution_count": 10,
   "id": "d5a53307",
   "metadata": {},
   "outputs": [],
   "source": [
    "train_ds = train_ds.map(lambda x,y : (preprocess_input(data_augmentation(x, training=True)), y))\n",
    "val_ds = val_ds.map(lambda x: preprocess_input(x))"
   ]
  },
  {
   "cell_type": "code",
   "execution_count": 11,
   "id": "7af4ddf7",
   "metadata": {},
   "outputs": [],
   "source": [
    "train_base = True\n",
    "base_model.trainable = train_base\n",
    "\n",
    "global_average_layer = tf.keras.layers.GlobalAveragePooling2D()\n",
    "classification_layer = tf.keras.layers.Dense(1024, activation='relu')\n",
    "prediction_layer = tf.keras.layers.Dense(num_classes)\n",
    "\n",
    "x = base_model.layers[-1].output\n",
    "\n",
    "x = global_average_layer(x)\n",
    "x = tf.keras.layers.Dropout(0.2)(x)\n",
    "x = classification_layer(x)\n",
    "outputs = prediction_layer(x)\n",
    "\n",
    "model = tf.keras.Model(base_model.input, outputs)"
   ]
  },
  {
   "cell_type": "code",
   "execution_count": 12,
   "id": "fa029bb9",
   "metadata": {},
   "outputs": [],
   "source": [
    "base_learning_rate = 1e-5\n",
    "\n",
    "loss_fn   = tf.keras.losses.SparseCategoricalCrossentropy(from_logits=True)\n",
    "optimizer = tf.keras.optimizers.Adam(learning_rate=base_learning_rate)"
   ]
  },
  {
   "cell_type": "code",
   "execution_count": 13,
   "id": "6f06e86f",
   "metadata": {},
   "outputs": [],
   "source": [
    "epochs = 1"
   ]
  },
  {
   "cell_type": "code",
   "execution_count": 19,
   "id": "24a95b71",
   "metadata": {},
   "outputs": [
    {
     "name": "stdout",
     "output_type": "stream",
     "text": [
      "Found 1002 files belonging to 1 classes.\n"
     ]
    }
   ],
   "source": [
    "val_ds = tf.keras.utils.image_dataset_from_directory(data_dir+'val',\n",
    "                                                     image_size=(image_size, image_size), \n",
    "                                                     batch_size=1, \n",
    "                                                     shuffle=False, \n",
    "                                                     labels=None)\n",
    "val_ds = val_ds.map(lambda x: preprocess_input(x))    "
   ]
  },
  {
   "cell_type": "code",
   "execution_count": 20,
   "id": "61d3625d",
   "metadata": {},
   "outputs": [],
   "source": [
    "def evaluate(model, ds, folder):\n",
    "    df = pd.read_csv(f'data/{folder}_truth.csv')[['image_id','dx']]\n",
    "    df = val_df.sort_values(by = 'image_id')\n",
    "    \n",
    "    y_pred, y_target = [], []\n",
    "    class_names = sorted(list(set(df['dx'])))\n",
    "    class_names = {name : idx for idx, name in enumerate(class_names)}\n",
    "    df['dx'] = df['dx'].apply(lambda x: class_names[x])\n",
    "    acc = 0\n",
    "    for idx, img in enumerate(ds):\n",
    "        logit = model(img, training = False)\n",
    "        pred = np.argmax(logit)\n",
    "        label = df['dx'].iloc[idx]\n",
    "        if pred == label :\n",
    "            acc += 1\n",
    "    print(folder, 'acc :', acc/len(df))"
   ]
  },
  {
   "cell_type": "code",
   "execution_count": 21,
   "id": "d29adaf0",
   "metadata": {},
   "outputs": [
    {
     "name": "stderr",
     "output_type": "stream",
     "text": [
      "/var/folders/72/c4ssbcf93c324cr68lhtnsz80000gn/T/ipykernel_10755/1960160708.py:14: RuntimeWarning: divide by zero encountered in double_scalars\n",
      "  print(f'{epoch+1}. Loss : {loss/total_step}', end=\" \")\n"
     ]
    },
    {
     "name": "stdout",
     "output_type": "stream",
     "text": [
      "1. Loss : inf val 0.14171656686626746\n"
     ]
    }
   ],
   "source": [
    "for epoch in range(epochs):\n",
    "    total_step, loss = 0, 0 \n",
    "    for step, (x_batch_train, y_batch_train) in enumerate(train_ds):\n",
    "        with tf.GradientTape() as tape:\n",
    "            logits = model(x_batch_train, training=True)  \n",
    "            loss_value = loss_fn(y_batch_train, logits)\n",
    "            \n",
    "        grads = tape.gradient(loss_value, model.trainable_weights)\n",
    "        optimizer.apply_gradients(zip(grads, model.trainable_weights))\n",
    "        \n",
    "        loss += loss_value.numpy()\n",
    "        total_step += 1\n",
    "    print(f'{epoch+1}. Loss : {loss/total_step}', end=\" \")\n",
    "    evaluate(model, val_ds, 'val')"
   ]
  },
  {
   "cell_type": "code",
   "execution_count": null,
   "id": "972254a0",
   "metadata": {},
   "outputs": [],
   "source": [
    "model.save('model/inception')"
   ]
  }
 ],
 "metadata": {
  "kernelspec": {
   "display_name": "Python 3 (ipykernel)",
   "language": "python",
   "name": "python3"
  },
  "language_info": {
   "codemirror_mode": {
    "name": "ipython",
    "version": 3
   },
   "file_extension": ".py",
   "mimetype": "text/x-python",
   "name": "python",
   "nbconvert_exporter": "python",
   "pygments_lexer": "ipython3",
   "version": "3.9.12"
  }
 },
 "nbformat": 4,
 "nbformat_minor": 5
}
