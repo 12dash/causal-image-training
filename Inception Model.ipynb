{
 "cells": [
  {
   "cell_type": "code",
   "execution_count": null,
   "id": "09858cb7",
   "metadata": {
    "execution": {
     "iopub.status.idle": "2023-01-26T03:07:24.018595Z"
    }
   },
   "outputs": [],
   "source": [
    "import pandas as pd\n",
    "import numpy as np\n",
    "import tensorflow as tf\n",
    "\n",
    "from sklearn.utils import class_weight\n",
    "from sklearn.metrics import accuracy_score\n",
    "from tqdm.notebook import tqdm"
   ]
  },
  {
   "cell_type": "code",
   "execution_count": null,
   "id": "e053b6b4",
   "metadata": {
    "execution": {
     "iopub.execute_input": "2023-01-26T03:07:24.019821Z",
     "iopub.status.busy": "2023-01-26T03:07:24.019444Z",
     "iopub.status.idle": "2023-01-26T03:07:24.025436Z"
    }
   },
   "outputs": [],
   "source": [
    "data_dir = 'data/'\n",
    "\n",
    "image_size = 299\n",
    "batch_size = 32"
   ]
  },
  {
   "cell_type": "code",
   "execution_count": null,
   "id": "262bb3df",
   "metadata": {
    "execution": {
     "iopub.execute_input": "2023-01-26T03:07:24.027446Z",
     "iopub.status.busy": "2023-01-26T03:07:24.026905Z",
     "iopub.status.idle": "2023-01-26T03:07:24.032391Z"
    }
   },
   "outputs": [],
   "source": [
    "def get_class_weight(ds):\n",
    "    y = np.concatenate([y for x, y in ds], axis=0)\n",
    "    class_weights = class_weight.compute_class_weight('balanced',\n",
    "                                                 classes = np.unique(y),\n",
    "                                                 y = y)\n",
    "    return class_weights"
   ]
  },
  {
   "cell_type": "code",
   "execution_count": null,
   "id": "b71853da",
   "metadata": {
    "execution": {
     "iopub.execute_input": "2023-01-26T03:07:24.037022Z",
     "iopub.status.busy": "2023-01-26T03:07:24.036860Z",
     "iopub.status.idle": "2023-01-26T03:07:31.031705Z"
    }
   },
   "outputs": [
    {
     "name": "stdout",
     "output_type": "stream",
     "text": [
      "Found 8012 files belonging to 7 classes.\n"
     ]
    }
   ],
   "source": [
    "train_ds = tf.keras.utils.image_dataset_from_directory(data_dir+\"train\", seed=123, \n",
    "                                                       image_size=(image_size, image_size), \n",
    "                                                       batch_size=batch_size)\n",
    "class_names = train_ds.class_names\n",
    "num_classes = len(class_names)\n",
    "\n",
    "class_weights = get_class_weight(train_ds)\n",
    "class_weights = dict(enumerate(class_weights))"
   ]
  },
  {
   "cell_type": "code",
   "execution_count": null,
   "id": "5391506a",
   "metadata": {
    "execution": {
     "iopub.execute_input": "2023-01-26T03:07:31.034307Z",
     "iopub.status.busy": "2023-01-26T03:07:31.034139Z",
     "iopub.status.idle": "2023-01-26T03:07:31.081296Z"
    }
   },
   "outputs": [
    {
     "name": "stdout",
     "output_type": "stream",
     "text": [
      "Found 1002 files belonging to 1 classes.\n"
     ]
    }
   ],
   "source": [
    "val_ds = tf.keras.utils.image_dataset_from_directory(data_dir+'val',\n",
    "                                                     image_size=(image_size, image_size), \n",
    "                                                     batch_size=32,  \n",
    "                                                     shuffle=False, \n",
    "                                                     labels=None)"
   ]
  },
  {
   "cell_type": "code",
   "execution_count": null,
   "id": "cdddabb4",
   "metadata": {
    "execution": {
     "iopub.execute_input": "2023-01-26T03:07:31.083648Z",
     "iopub.status.busy": "2023-01-26T03:07:31.083432Z",
     "iopub.status.idle": "2023-01-26T03:07:31.088143Z"
    }
   },
   "outputs": [],
   "source": [
    "AUTOTUNE = tf.data.AUTOTUNE\n",
    "\n",
    "train_ds = train_ds.cache().shuffle(1000).prefetch(buffer_size=AUTOTUNE)"
   ]
  },
  {
   "cell_type": "code",
   "execution_count": null,
   "id": "0f1cceeb",
   "metadata": {
    "execution": {
     "iopub.execute_input": "2023-01-26T03:07:31.089554Z",
     "iopub.status.busy": "2023-01-26T03:07:31.089116Z",
     "iopub.status.idle": "2023-01-26T03:07:31.102616Z"
    }
   },
   "outputs": [],
   "source": [
    "data_augmentation = tf.keras.Sequential([\n",
    "  tf.keras.layers.RandomFlip('horizontal'),\n",
    "  tf.keras.layers.RandomRotation(0.2),\n",
    "])\n",
    "\n",
    "preprocess_input = tf.keras.applications.inception_v3.preprocess_input"
   ]
  },
  {
   "cell_type": "code",
   "execution_count": null,
   "id": "3dbb35f8",
   "metadata": {
    "execution": {
     "iopub.execute_input": "2023-01-26T03:07:31.103784Z",
     "iopub.status.busy": "2023-01-26T03:07:31.103526Z",
     "iopub.status.idle": "2023-01-26T03:07:32.663495Z"
    }
   },
   "outputs": [],
   "source": [
    "base_model = tf.keras.applications.inception_v3.InceptionV3(input_shape=(image_size, image_size, 3), \n",
    "                                                            include_top=False, weights='imagenet')"
   ]
  },
  {
   "cell_type": "code",
   "execution_count": null,
   "id": "d5a53307",
   "metadata": {
    "execution": {
     "iopub.execute_input": "2023-01-26T03:07:32.664640Z",
     "iopub.status.busy": "2023-01-26T03:07:32.664384Z",
     "iopub.status.idle": "2023-01-26T03:07:32.847924Z"
    }
   },
   "outputs": [],
   "source": [
    "train_ds = train_ds.map(lambda x,y : (preprocess_input(data_augmentation(x, training=True)), y))\n",
    "val_ds = val_ds.map(lambda x: preprocess_input(x))"
   ]
  },
  {
   "cell_type": "code",
   "execution_count": null,
   "id": "7af4ddf7",
   "metadata": {
    "execution": {
     "iopub.execute_input": "2023-01-26T03:07:32.848975Z",
     "iopub.status.busy": "2023-01-26T03:07:32.848781Z",
     "iopub.status.idle": "2023-01-26T03:07:32.882826Z"
    }
   },
   "outputs": [],
   "source": [
    "train_base = True\n",
    "base_model.trainable = train_base\n",
    "\n",
    "global_average_layer = tf.keras.layers.GlobalAveragePooling2D()\n",
    "classification_layer = tf.keras.layers.Dense(1024, activation='relu')\n",
    "prediction_layer = tf.keras.layers.Dense(num_classes, activation='softmax')\n",
    "\n",
    "x = base_model.layers[-1].output\n",
    "\n",
    "x = global_average_layer(x)\n",
    "x = tf.keras.layers.Dropout(0.2)(x)\n",
    "x = classification_layer(x)\n",
    "outputs = prediction_layer(x)\n",
    "\n",
    "model = tf.keras.Model(base_model.input, outputs)"
   ]
  },
  {
   "cell_type": "code",
   "execution_count": null,
   "id": "fa029bb9",
   "metadata": {
    "execution": {
     "iopub.execute_input": "2023-01-26T03:07:32.884329Z",
     "iopub.status.busy": "2023-01-26T03:07:32.883658Z",
     "iopub.status.idle": "2023-01-26T03:07:32.896572Z"
    }
   },
   "outputs": [],
   "source": [
    "base_learning_rate = 1e-5\n",
    "\n",
    "loss_fn   = tf.keras.losses.SparseCategoricalCrossentropy(from_logits=False)\n",
    "optimizer = tf.keras.optimizers.Adam(learning_rate=base_learning_rate)\n",
    "\n",
    "model.compile(optimizer=optimizer, loss=loss_fn, metrics=[\"acc\"])"
   ]
  },
  {
   "cell_type": "code",
   "execution_count": null,
   "id": "6f06e86f",
   "metadata": {
    "execution": {
     "iopub.execute_input": "2023-01-26T03:07:32.897478Z",
     "iopub.status.busy": "2023-01-26T03:07:32.897295Z",
     "iopub.status.idle": "2023-01-26T03:07:32.900780Z"
    }
   },
   "outputs": [],
   "source": [
    "epochs = 30"
   ]
  },
  {
   "cell_type": "code",
   "execution_count": null,
   "id": "61d3625d",
   "metadata": {
    "execution": {
     "iopub.execute_input": "2023-01-26T03:07:32.902111Z",
     "iopub.status.busy": "2023-01-26T03:07:32.901730Z",
     "iopub.status.idle": "2023-01-26T03:07:32.906524Z"
    }
   },
   "outputs": [],
   "source": [
    "def evaluate(model, ds, folder):\n",
    "    df = pd.read_csv(f'data/{folder}_truth.csv')[['image_id','dx']]\n",
    "    df = df.sort_values(by = 'image_id')\n",
    "    class_names = sorted(list(set(df['dx'])))\n",
    "    class_names = {name : idx for idx, name in enumerate(class_names)}\n",
    "    df['dx'] = df['dx'].apply(lambda x: class_names[x])\n",
    "    y_actual = list(df['dx'])\n",
    "        \n",
    "    y_pred = tf.convert_to_tensor([])\n",
    "    for batch_img in ds:\n",
    "        logit = model(batch_img, training = False)\n",
    "        pred = np.argmax(logit, axis = 1)\n",
    "        y_pred = tf.concat([y_pred, pred], axis = 0)\n",
    "\n",
    "    y_pred = y_pred.numpy()\n",
    "    print(\"acc :\", accuracy_score(y_actual, y_pred))"
   ]
  },
  {
   "cell_type": "code",
   "execution_count": null,
   "id": "d29adaf0",
   "metadata": {
    "execution": {
     "iopub.execute_input": "2023-01-26T03:07:32.907314Z",
     "iopub.status.busy": "2023-01-26T03:07:32.907145Z",
     "iopub.status.idle": "2023-01-26T03:50:22.763628Z"
    }
   },
   "outputs": [
    {
     "name": "stdout",
     "output_type": "stream",
     "text": [
      "Epoch 1/30\n",
      "251/251 [==============================] - 96s 335ms/step - loss: 1.7359 - acc: 0.3321\n",
      "Epoch 2/30\n",
      "251/251 [==============================] - 86s 341ms/step - loss: 1.2636 - acc: 0.5280\n",
      "Epoch 3/30\n",
      "251/251 [==============================] - 84s 335ms/step - loss: 0.9814 - acc: 0.6242\n",
      "Epoch 4/30\n",
      "251/251 [==============================] - 84s 336ms/step - loss: 0.7781 - acc: 0.6636\n",
      "Epoch 5/30\n",
      "251/251 [==============================] - 84s 334ms/step - loss: 0.6659 - acc: 0.6992\n",
      "Epoch 6/30\n",
      "251/251 [==============================] - 85s 339ms/step - loss: 0.5578 - acc: 0.7283\n",
      "Epoch 7/30\n",
      "251/251 [==============================] - 85s 340ms/step - loss: 0.4769 - acc: 0.7476\n",
      "Epoch 8/30\n",
      "251/251 [==============================] - 86s 343ms/step - loss: 0.4187 - acc: 0.7647\n",
      "Epoch 9/30\n",
      "251/251 [==============================] - 85s 338ms/step - loss: 0.3751 - acc: 0.7770\n",
      "Epoch 10/30\n",
      "251/251 [==============================] - 87s 346ms/step - loss: 0.3320 - acc: 0.7938\n",
      "Epoch 11/30\n",
      "251/251 [==============================] - 84s 334ms/step - loss: 0.2967 - acc: 0.8094\n",
      "Epoch 12/30\n",
      "251/251 [==============================] - 85s 339ms/step - loss: 0.2705 - acc: 0.8253\n",
      "Epoch 13/30\n",
      "251/251 [==============================] - 84s 334ms/step - loss: 0.2309 - acc: 0.8399\n",
      "Epoch 14/30\n",
      "251/251 [==============================] - 85s 339ms/step - loss: 0.2139 - acc: 0.8480\n",
      "Epoch 15/30\n",
      "251/251 [==============================] - 86s 344ms/step - loss: 0.1853 - acc: 0.8636\n",
      "Epoch 16/30\n",
      "251/251 [==============================] - 85s 339ms/step - loss: 0.1680 - acc: 0.8712\n",
      "Epoch 17/30\n",
      "251/251 [==============================] - 84s 335ms/step - loss: 0.1523 - acc: 0.8776\n",
      "Epoch 18/30\n",
      "251/251 [==============================] - 86s 342ms/step - loss: 0.1442 - acc: 0.8839\n",
      "Epoch 19/30\n",
      "251/251 [==============================] - 85s 339ms/step - loss: 0.1229 - acc: 0.9013\n",
      "Epoch 20/30\n",
      "251/251 [==============================] - 85s 339ms/step - loss: 0.1112 - acc: 0.9075\n",
      "Epoch 21/30\n",
      "251/251 [==============================] - 86s 342ms/step - loss: 0.0887 - acc: 0.9221\n",
      "Epoch 22/30\n",
      "251/251 [==============================] - 86s 343ms/step - loss: 0.0837 - acc: 0.9284\n",
      "Epoch 23/30\n",
      "251/251 [==============================] - 85s 340ms/step - loss: 0.0815 - acc: 0.9299\n",
      "Epoch 24/30\n",
      "251/251 [==============================] - 85s 340ms/step - loss: 0.0706 - acc: 0.9361\n",
      "Epoch 25/30\n",
      "251/251 [==============================] - 84s 335ms/step - loss: 0.0658 - acc: 0.9463\n",
      "Epoch 26/30\n",
      "251/251 [==============================] - 85s 340ms/step - loss: 0.0577 - acc: 0.9523\n",
      "Epoch 27/30\n",
      "251/251 [==============================] - 85s 340ms/step - loss: 0.0519 - acc: 0.9529\n",
      "Epoch 28/30\n",
      "251/251 [==============================] - 86s 342ms/step - loss: 0.0547 - acc: 0.9561\n",
      "Epoch 29/30\n",
      "251/251 [==============================] - 86s 342ms/step - loss: 0.0447 - acc: 0.9618\n",
      "Epoch 30/30\n",
      "251/251 [==============================] - 86s 343ms/step - loss: 0.0402 - acc: 0.9659\n"
     ]
    }
   ],
   "source": [
    "_ = model.fit(train_ds, epochs = epochs, class_weight = class_weights)"
   ]
  },
  {
   "cell_type": "code",
   "execution_count": null,
   "id": "485cd016-4c8a-477e-b948-29eed7c2154d",
   "metadata": {
    "execution": {
     "iopub.execute_input": "2023-01-26T03:50:22.766714Z",
     "iopub.status.busy": "2023-01-26T03:50:22.766452Z",
     "iopub.status.idle": "2023-01-26T03:50:25.498474Z"
    }
   },
   "outputs": [
    {
     "name": "stdout",
     "output_type": "stream",
     "text": [
      "acc : 0.8303393213572854\n"
     ]
    }
   ],
   "source": [
    "evaluate(model, val_ds, 'val')"
   ]
  },
  {
   "cell_type": "code",
   "execution_count": null,
   "id": "f6297a80-08bc-4ed7-8c76-b1827f08bc9b",
   "metadata": {
    "execution": {
     "iopub.execute_input": "2023-01-26T03:50:25.499996Z",
     "iopub.status.busy": "2023-01-26T03:50:25.499784Z",
     "iopub.status.idle": "2023-01-26T03:50:28.014598Z"
    }
   },
   "outputs": [
    {
     "name": "stdout",
     "output_type": "stream",
     "text": [
      "Found 1001 files belonging to 1 classes.\n",
      "acc : 0.8291708291708292\n"
     ]
    }
   ],
   "source": [
    "test_ds = tf.keras.utils.image_dataset_from_directory(data_dir+'test',\n",
    "                                                     image_size=(image_size, image_size), \n",
    "                                                     batch_size=32, \n",
    "                                                     shuffle=False, \n",
    "                                                     labels=None)\n",
    "test_ds = test_ds.map(lambda x: preprocess_input(x))   \n",
    "evaluate(model, test_ds, 'test')"
   ]
  },
  {
   "cell_type": "code",
   "execution_count": null,
   "id": "972254a0",
   "metadata": {
    "execution": {
     "iopub.execute_input": "2023-01-26T03:50:28.015953Z",
     "iopub.status.busy": "2023-01-26T03:50:28.015411Z",
     "iopub.status.idle": "2023-01-26T03:51:15.789485Z"
    }
   },
   "outputs": [
    {
     "name": "stderr",
     "output_type": "stream",
     "text": [
      "WARNING:absl:Found untraced functions such as _jit_compiled_convolution_op, _jit_compiled_convolution_op, _jit_compiled_convolution_op, _jit_compiled_convolution_op, _jit_compiled_convolution_op while saving (showing 5 of 94). These functions will not be directly callable after loading.\n"
     ]
    },
    {
     "name": "stdout",
     "output_type": "stream",
     "text": [
      "INFO:tensorflow:Assets written to: model/inception/assets\n"
     ]
    },
    {
     "name": "stderr",
     "output_type": "stream",
     "text": [
      "INFO:tensorflow:Assets written to: model/inception/assets\n"
     ]
    }
   ],
   "source": [
    "model.save('model/inception')"
   ]
  }
 ],
 "metadata": {
  "kernelspec": {
   "display_name": "Python 3 (ipykernel)",
   "language": "python",
   "name": "python3"
  },
  "language_info": {
   "codemirror_mode": {
    "name": "ipython",
    "version": 3
   },
   "file_extension": ".py",
   "mimetype": "text/x-python",
   "name": "python",
   "nbconvert_exporter": "python",
   "pygments_lexer": "ipython3",
   "version": "3.9.12"
  }
 },
 "nbformat": 4,
 "nbformat_minor": 5
}
