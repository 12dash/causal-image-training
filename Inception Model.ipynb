{
 "cells": [
  {
   "cell_type": "code",
   "execution_count": 1,
   "id": "09858cb7",
   "metadata": {
    "execution": {
     "iopub.execute_input": "2023-02-12T02:14:20.787852Z",
     "iopub.status.busy": "2023-02-12T02:14:20.786885Z",
     "iopub.status.idle": "2023-02-12T02:14:23.508724Z",
     "shell.execute_reply": "2023-02-12T02:14:23.508123Z",
     "shell.execute_reply.started": "2023-02-12T02:14:20.787761Z"
    }
   },
   "outputs": [],
   "source": [
    "import pandas as pd\n",
    "import numpy as np\n",
    "import tensorflow as tf\n",
    "\n",
    "from sklearn.utils import class_weight\n",
    "from sklearn.metrics import accuracy_score\n",
    "from tqdm.notebook import tqdm"
   ]
  },
  {
   "cell_type": "code",
   "execution_count": 2,
   "id": "e053b6b4",
   "metadata": {
    "execution": {
     "iopub.execute_input": "2023-02-12T02:14:23.510240Z",
     "iopub.status.busy": "2023-02-12T02:14:23.509704Z",
     "iopub.status.idle": "2023-02-12T02:14:23.513354Z",
     "shell.execute_reply": "2023-02-12T02:14:23.512810Z",
     "shell.execute_reply.started": "2023-02-12T02:14:23.510217Z"
    }
   },
   "outputs": [],
   "source": [
    "data_dir = 'data/'\n",
    "\n",
    "image_size = 299\n",
    "batch_size = 16"
   ]
  },
  {
   "cell_type": "code",
   "execution_count": 3,
   "id": "262bb3df",
   "metadata": {
    "execution": {
     "iopub.execute_input": "2023-02-12T02:14:23.514800Z",
     "iopub.status.busy": "2023-02-12T02:14:23.514171Z",
     "iopub.status.idle": "2023-02-12T02:14:23.517978Z",
     "shell.execute_reply": "2023-02-12T02:14:23.517447Z",
     "shell.execute_reply.started": "2023-02-12T02:14:23.514775Z"
    }
   },
   "outputs": [],
   "source": [
    "def get_class_weight(ds):\n",
    "    y = np.concatenate([y for x, y in ds], axis=0)\n",
    "    class_weights = class_weight.compute_class_weight('balanced',\n",
    "                                                 classes = np.unique(y),\n",
    "                                                 y = y)\n",
    "    return class_weights"
   ]
  },
  {
   "cell_type": "code",
   "execution_count": 4,
   "id": "b71853da",
   "metadata": {
    "execution": {
     "iopub.execute_input": "2023-02-12T02:14:23.520102Z",
     "iopub.status.busy": "2023-02-12T02:14:23.519497Z",
     "iopub.status.idle": "2023-02-12T02:14:29.958396Z",
     "shell.execute_reply": "2023-02-12T02:14:29.957485Z",
     "shell.execute_reply.started": "2023-02-12T02:14:23.520079Z"
    }
   },
   "outputs": [
    {
     "name": "stdout",
     "output_type": "stream",
     "text": [
      "Found 8012 files belonging to 7 classes.\n"
     ]
    }
   ],
   "source": [
    "train_ds = tf.keras.utils.image_dataset_from_directory(data_dir+\"train\", seed=123, \n",
    "                                                       image_size=(image_size, image_size), \n",
    "                                                       batch_size=batch_size)\n",
    "class_names = train_ds.class_names\n",
    "num_classes = len(class_names)\n",
    "\n",
    "class_weights = get_class_weight(train_ds)\n",
    "class_weights = dict(enumerate(class_weights))"
   ]
  },
  {
   "cell_type": "code",
   "execution_count": 5,
   "id": "5391506a",
   "metadata": {
    "execution": {
     "iopub.execute_input": "2023-02-12T02:14:29.960042Z",
     "iopub.status.busy": "2023-02-12T02:14:29.959762Z",
     "iopub.status.idle": "2023-02-12T02:14:30.013933Z",
     "shell.execute_reply": "2023-02-12T02:14:30.013186Z",
     "shell.execute_reply.started": "2023-02-12T02:14:29.960018Z"
    }
   },
   "outputs": [
    {
     "name": "stdout",
     "output_type": "stream",
     "text": [
      "Found 1002 files belonging to 1 classes.\n"
     ]
    }
   ],
   "source": [
    "val_ds = tf.keras.utils.image_dataset_from_directory(data_dir+'val',\n",
    "                                                     image_size=(image_size, image_size), \n",
    "                                                     batch_size=32,  \n",
    "                                                     shuffle=False, \n",
    "                                                     labels=None)"
   ]
  },
  {
   "cell_type": "code",
   "execution_count": 6,
   "id": "cdddabb4",
   "metadata": {
    "execution": {
     "iopub.execute_input": "2023-02-12T02:14:30.014801Z",
     "iopub.status.busy": "2023-02-12T02:14:30.014592Z",
     "iopub.status.idle": "2023-02-12T02:14:30.020881Z",
     "shell.execute_reply": "2023-02-12T02:14:30.020076Z",
     "shell.execute_reply.started": "2023-02-12T02:14:30.014782Z"
    }
   },
   "outputs": [],
   "source": [
    "AUTOTUNE = tf.data.AUTOTUNE\n",
    "\n",
    "train_ds = train_ds.cache().shuffle(1000).prefetch(buffer_size=AUTOTUNE)"
   ]
  },
  {
   "cell_type": "code",
   "execution_count": 7,
   "id": "0f1cceeb",
   "metadata": {
    "execution": {
     "iopub.execute_input": "2023-02-12T02:14:30.022092Z",
     "iopub.status.busy": "2023-02-12T02:14:30.021833Z",
     "iopub.status.idle": "2023-02-12T02:14:30.062274Z",
     "shell.execute_reply": "2023-02-12T02:14:30.061330Z",
     "shell.execute_reply.started": "2023-02-12T02:14:30.022067Z"
    }
   },
   "outputs": [],
   "source": [
    "data_augmentation = tf.keras.Sequential([\n",
    "  tf.keras.layers.RandomFlip('horizontal'),\n",
    "  tf.keras.layers.RandomRotation(0.2),\n",
    "])\n",
    "\n",
    "preprocess_input = tf.keras.applications.inception_v3.preprocess_input"
   ]
  },
  {
   "cell_type": "code",
   "execution_count": 8,
   "id": "3dbb35f8",
   "metadata": {
    "execution": {
     "iopub.execute_input": "2023-02-12T02:14:30.064045Z",
     "iopub.status.busy": "2023-02-12T02:14:30.063439Z",
     "iopub.status.idle": "2023-02-12T02:14:32.717299Z",
     "shell.execute_reply": "2023-02-12T02:14:32.716453Z",
     "shell.execute_reply.started": "2023-02-12T02:14:30.064016Z"
    }
   },
   "outputs": [
    {
     "name": "stdout",
     "output_type": "stream",
     "text": [
      "Downloading data from https://storage.googleapis.com/tensorflow/keras-applications/inception_v3/inception_v3_weights_tf_dim_ordering_tf_kernels_notop.h5\n",
      "87910968/87910968 [==============================] - 1s 0us/step\n"
     ]
    }
   ],
   "source": [
    "base_model = tf.keras.applications.inception_v3.InceptionV3(input_shape=(image_size, image_size, 3), \n",
    "                                                            include_top=False, weights='imagenet')"
   ]
  },
  {
   "cell_type": "code",
   "execution_count": 9,
   "id": "d5a53307",
   "metadata": {
    "execution": {
     "iopub.execute_input": "2023-02-12T02:14:32.718841Z",
     "iopub.status.busy": "2023-02-12T02:14:32.718608Z",
     "iopub.status.idle": "2023-02-12T02:14:32.923124Z",
     "shell.execute_reply": "2023-02-12T02:14:32.922387Z",
     "shell.execute_reply.started": "2023-02-12T02:14:32.718820Z"
    }
   },
   "outputs": [],
   "source": [
    "train_ds = train_ds.map(lambda x,y : (preprocess_input(data_augmentation(x, training=True)), y))\n",
    "val_ds = val_ds.map(lambda x: preprocess_input(x))"
   ]
  },
  {
   "cell_type": "code",
   "execution_count": 10,
   "id": "7af4ddf7",
   "metadata": {
    "execution": {
     "iopub.execute_input": "2023-02-12T02:14:32.926101Z",
     "iopub.status.busy": "2023-02-12T02:14:32.925846Z",
     "iopub.status.idle": "2023-02-12T02:14:32.963572Z",
     "shell.execute_reply": "2023-02-12T02:14:32.962826Z",
     "shell.execute_reply.started": "2023-02-12T02:14:32.926079Z"
    }
   },
   "outputs": [],
   "source": [
    "train_base = True\n",
    "base_model.trainable = train_base\n",
    "\n",
    "global_average_layer = tf.keras.layers.GlobalAveragePooling2D()\n",
    "classification_layer = tf.keras.layers.Dense(1024, activation='relu')\n",
    "prediction_layer = tf.keras.layers.Dense(num_classes, activation='softmax')\n",
    "\n",
    "x = base_model.layers[-1].output\n",
    "\n",
    "x = global_average_layer(x)\n",
    "x = tf.keras.layers.Dropout(0.2)(x)\n",
    "x = classification_layer(x)\n",
    "outputs = prediction_layer(x)\n",
    "\n",
    "model = tf.keras.Model(base_model.input, outputs)"
   ]
  },
  {
   "cell_type": "code",
   "execution_count": 11,
   "id": "fa029bb9",
   "metadata": {
    "execution": {
     "iopub.execute_input": "2023-02-12T02:14:32.964737Z",
     "iopub.status.busy": "2023-02-12T02:14:32.964524Z",
     "iopub.status.idle": "2023-02-12T02:14:32.981368Z",
     "shell.execute_reply": "2023-02-12T02:14:32.980370Z",
     "shell.execute_reply.started": "2023-02-12T02:14:32.964716Z"
    }
   },
   "outputs": [],
   "source": [
    "base_learning_rate = 1e-5\n",
    "\n",
    "loss_fn   = tf.keras.losses.SparseCategoricalCrossentropy(from_logits=False)\n",
    "optimizer = tf.keras.optimizers.Adam(learning_rate=base_learning_rate)\n",
    "\n",
    "model.compile(optimizer=optimizer, loss=loss_fn, metrics=[\"acc\"])"
   ]
  },
  {
   "cell_type": "code",
   "execution_count": 12,
   "id": "6f06e86f",
   "metadata": {
    "execution": {
     "iopub.execute_input": "2023-02-12T02:14:32.982593Z",
     "iopub.status.busy": "2023-02-12T02:14:32.982368Z",
     "iopub.status.idle": "2023-02-12T02:14:32.986621Z",
     "shell.execute_reply": "2023-02-12T02:14:32.985814Z",
     "shell.execute_reply.started": "2023-02-12T02:14:32.982573Z"
    }
   },
   "outputs": [],
   "source": [
    "epochs = 50"
   ]
  },
  {
   "cell_type": "code",
   "execution_count": 13,
   "id": "61d3625d",
   "metadata": {
    "execution": {
     "iopub.execute_input": "2023-02-12T02:14:32.987669Z",
     "iopub.status.busy": "2023-02-12T02:14:32.987457Z",
     "iopub.status.idle": "2023-02-12T02:14:32.993675Z",
     "shell.execute_reply": "2023-02-12T02:14:32.992860Z",
     "shell.execute_reply.started": "2023-02-12T02:14:32.987650Z"
    }
   },
   "outputs": [],
   "source": [
    "def evaluate(model, ds, folder):\n",
    "    df = pd.read_csv(f'data/{folder}_truth.csv')[['image_id','dx']]\n",
    "    df = df.sort_values(by = 'image_id')\n",
    "    class_names = sorted(list(set(df['dx'])))\n",
    "    class_names = {name : idx for idx, name in enumerate(class_names)}\n",
    "    df['dx'] = df['dx'].apply(lambda x: class_names[x])\n",
    "    y_actual = list(df['dx'])\n",
    "        \n",
    "    y_pred = tf.convert_to_tensor([])\n",
    "    for batch_img in ds:\n",
    "        logit = model(batch_img, training = False)\n",
    "        pred = np.argmax(logit, axis = 1)\n",
    "        y_pred = tf.concat([y_pred, pred], axis = 0)\n",
    "\n",
    "    y_pred = y_pred.numpy()\n",
    "    print(\"acc :\", accuracy_score(y_actual, y_pred))"
   ]
  },
  {
   "cell_type": "code",
   "execution_count": 14,
   "id": "d29adaf0",
   "metadata": {
    "execution": {
     "iopub.execute_input": "2023-02-12T02:14:32.994667Z",
     "iopub.status.busy": "2023-02-12T02:14:32.994475Z",
     "iopub.status.idle": "2023-02-12T03:46:04.566710Z",
     "shell.execute_reply": "2023-02-12T03:46:04.566023Z",
     "shell.execute_reply.started": "2023-02-12T02:14:32.994649Z"
    }
   },
   "outputs": [
    {
     "name": "stdout",
     "output_type": "stream",
     "text": [
      "Epoch 1/50\n",
      "501/501 [==============================] - 114s 200ms/step - loss: 1.6968 - acc: 0.3556\n",
      "Epoch 2/50\n",
      "501/501 [==============================] - 100s 200ms/step - loss: 1.1813 - acc: 0.5530\n",
      "Epoch 3/50\n",
      "501/501 [==============================] - 100s 199ms/step - loss: 0.8916 - acc: 0.6398\n",
      "Epoch 4/50\n",
      "501/501 [==============================] - 101s 202ms/step - loss: 0.6909 - acc: 0.6789\n",
      "Epoch 5/50\n",
      "501/501 [==============================] - 102s 204ms/step - loss: 0.5636 - acc: 0.7167\n",
      "Epoch 6/50\n",
      "501/501 [==============================] - 103s 206ms/step - loss: 0.5011 - acc: 0.7292\n",
      "Epoch 7/50\n",
      "501/501 [==============================] - 101s 202ms/step - loss: 0.4148 - acc: 0.7501\n",
      "Epoch 8/50\n",
      "501/501 [==============================] - 100s 199ms/step - loss: 0.3590 - acc: 0.7798\n",
      "Epoch 9/50\n",
      "501/501 [==============================] - 101s 201ms/step - loss: 0.3075 - acc: 0.7973\n",
      "Epoch 10/50\n",
      "501/501 [==============================] - 103s 206ms/step - loss: 0.2743 - acc: 0.8109\n",
      "Epoch 11/50\n",
      "501/501 [==============================] - 101s 202ms/step - loss: 0.2405 - acc: 0.8315\n",
      "Epoch 12/50\n",
      "501/501 [==============================] - 101s 203ms/step - loss: 0.2049 - acc: 0.8430\n",
      "Epoch 13/50\n",
      "501/501 [==============================] - 101s 201ms/step - loss: 0.1791 - acc: 0.8596\n",
      "Epoch 14/50\n",
      "501/501 [==============================] - 102s 204ms/step - loss: 0.1630 - acc: 0.8722\n",
      "Epoch 15/50\n",
      "501/501 [==============================] - 100s 200ms/step - loss: 0.1463 - acc: 0.8806\n",
      "Epoch 16/50\n",
      "501/501 [==============================] - 103s 205ms/step - loss: 0.1262 - acc: 0.8923\n",
      "Epoch 17/50\n",
      "501/501 [==============================] - 101s 201ms/step - loss: 0.1158 - acc: 0.9021\n",
      "Epoch 18/50\n",
      "501/501 [==============================] - 101s 202ms/step - loss: 0.0959 - acc: 0.9140\n",
      "Epoch 19/50\n",
      "501/501 [==============================] - 101s 201ms/step - loss: 0.0840 - acc: 0.9241\n",
      "Epoch 20/50\n",
      "501/501 [==============================] - 101s 202ms/step - loss: 0.0772 - acc: 0.9311\n",
      "Epoch 21/50\n",
      "501/501 [==============================] - 101s 201ms/step - loss: 0.0731 - acc: 0.9385\n",
      "Epoch 22/50\n",
      "501/501 [==============================] - 100s 200ms/step - loss: 0.0637 - acc: 0.9437\n",
      "Epoch 23/50\n",
      "501/501 [==============================] - 100s 199ms/step - loss: 0.0535 - acc: 0.9556\n",
      "Epoch 24/50\n",
      "501/501 [==============================] - 99s 198ms/step - loss: 0.0666 - acc: 0.9486\n",
      "Epoch 25/50\n",
      "501/501 [==============================] - 102s 204ms/step - loss: 0.0418 - acc: 0.9613\n",
      "Epoch 26/50\n",
      "501/501 [==============================] - 105s 210ms/step - loss: 0.0459 - acc: 0.9664\n",
      "Epoch 27/50\n",
      "501/501 [==============================] - 103s 206ms/step - loss: 0.0380 - acc: 0.9672\n",
      "Epoch 28/50\n",
      "501/501 [==============================] - 106s 211ms/step - loss: 0.0313 - acc: 0.9715\n",
      "Epoch 29/50\n",
      "501/501 [==============================] - 103s 206ms/step - loss: 0.0374 - acc: 0.9684\n",
      "Epoch 30/50\n",
      "501/501 [==============================] - 104s 207ms/step - loss: 0.0299 - acc: 0.9739\n",
      "Epoch 31/50\n",
      "501/501 [==============================] - 103s 206ms/step - loss: 0.0313 - acc: 0.9780\n",
      "Epoch 32/50\n",
      "501/501 [==============================] - 106s 211ms/step - loss: 0.0265 - acc: 0.9775\n",
      "Epoch 33/50\n",
      "501/501 [==============================] - 104s 208ms/step - loss: 0.0229 - acc: 0.9810\n",
      "Epoch 34/50\n",
      "501/501 [==============================] - 104s 207ms/step - loss: 0.0275 - acc: 0.9805\n",
      "Epoch 35/50\n",
      "501/501 [==============================] - 103s 206ms/step - loss: 0.0294 - acc: 0.9787\n",
      "Epoch 36/50\n",
      "501/501 [==============================] - 104s 207ms/step - loss: 0.0248 - acc: 0.9820\n",
      "Epoch 37/50\n",
      "501/501 [==============================] - 100s 200ms/step - loss: 0.0195 - acc: 0.9860\n",
      "Epoch 38/50\n",
      "501/501 [==============================] - 100s 199ms/step - loss: 0.0176 - acc: 0.9854\n",
      "Epoch 39/50\n",
      "501/501 [==============================] - 101s 202ms/step - loss: 0.0194 - acc: 0.9858\n",
      "Epoch 40/50\n",
      "501/501 [==============================] - 101s 202ms/step - loss: 0.0228 - acc: 0.9822\n",
      "Epoch 41/50\n",
      "501/501 [==============================] - 100s 199ms/step - loss: 0.0194 - acc: 0.9868\n",
      "Epoch 42/50\n",
      "501/501 [==============================] - 99s 198ms/step - loss: 0.0143 - acc: 0.9886\n",
      "Epoch 43/50\n",
      "501/501 [==============================] - 100s 199ms/step - loss: 0.0193 - acc: 0.9879\n",
      "Epoch 44/50\n",
      "501/501 [==============================] - 101s 202ms/step - loss: 0.0119 - acc: 0.9918\n",
      "Epoch 45/50\n",
      "501/501 [==============================] - 100s 200ms/step - loss: 0.0234 - acc: 0.9860\n",
      "Epoch 46/50\n",
      "501/501 [==============================] - 100s 199ms/step - loss: 0.0217 - acc: 0.9861\n",
      "Epoch 47/50\n",
      "501/501 [==============================] - 100s 199ms/step - loss: 0.0127 - acc: 0.9909\n",
      "Epoch 48/50\n",
      "501/501 [==============================] - 103s 205ms/step - loss: 0.0130 - acc: 0.9890\n",
      "Epoch 49/50\n",
      "501/501 [==============================] - 102s 204ms/step - loss: 0.0144 - acc: 0.9890\n",
      "Epoch 50/50\n",
      "501/501 [==============================] - 99s 198ms/step - loss: 0.0108 - acc: 0.9914\n"
     ]
    }
   ],
   "source": [
    "_ = model.fit(train_ds, epochs = epochs, class_weight = class_weights)"
   ]
  },
  {
   "cell_type": "code",
   "execution_count": 15,
   "id": "485cd016-4c8a-477e-b948-29eed7c2154d",
   "metadata": {
    "execution": {
     "iopub.execute_input": "2023-02-12T03:46:04.570310Z",
     "iopub.status.busy": "2023-02-12T03:46:04.570049Z",
     "iopub.status.idle": "2023-02-12T03:46:08.515903Z",
     "shell.execute_reply": "2023-02-12T03:46:08.514847Z",
     "shell.execute_reply.started": "2023-02-12T03:46:04.570289Z"
    }
   },
   "outputs": [
    {
     "name": "stdout",
     "output_type": "stream",
     "text": [
      "acc : 0.8532934131736527\n"
     ]
    }
   ],
   "source": [
    "evaluate(model, val_ds, 'val')"
   ]
  },
  {
   "cell_type": "code",
   "execution_count": 16,
   "id": "f6297a80-08bc-4ed7-8c76-b1827f08bc9b",
   "metadata": {
    "execution": {
     "iopub.execute_input": "2023-02-12T03:46:08.516957Z",
     "iopub.status.busy": "2023-02-12T03:46:08.516729Z",
     "iopub.status.idle": "2023-02-12T03:46:11.306052Z",
     "shell.execute_reply": "2023-02-12T03:46:11.305201Z",
     "shell.execute_reply.started": "2023-02-12T03:46:08.516932Z"
    }
   },
   "outputs": [
    {
     "name": "stdout",
     "output_type": "stream",
     "text": [
      "Found 1001 files belonging to 1 classes.\n",
      "acc : 0.8581418581418582\n"
     ]
    }
   ],
   "source": [
    "test_ds = tf.keras.utils.image_dataset_from_directory(data_dir+'test',\n",
    "                                                     image_size=(image_size, image_size), \n",
    "                                                     batch_size=32, \n",
    "                                                     shuffle=False, \n",
    "                                                     labels=None)\n",
    "test_ds = test_ds.map(lambda x: preprocess_input(x))   \n",
    "evaluate(model, test_ds, 'test')"
   ]
  },
  {
   "cell_type": "code",
   "execution_count": 17,
   "id": "972254a0",
   "metadata": {
    "execution": {
     "iopub.execute_input": "2023-02-12T03:46:11.307166Z",
     "iopub.status.busy": "2023-02-12T03:46:11.306940Z",
     "iopub.status.idle": "2023-02-12T03:46:33.434626Z",
     "shell.execute_reply": "2023-02-12T03:46:33.433816Z",
     "shell.execute_reply.started": "2023-02-12T03:46:11.307146Z"
    }
   },
   "outputs": [
    {
     "name": "stderr",
     "output_type": "stream",
     "text": [
      "WARNING:absl:Found untraced functions such as _jit_compiled_convolution_op, _jit_compiled_convolution_op, _jit_compiled_convolution_op, _jit_compiled_convolution_op, _jit_compiled_convolution_op while saving (showing 5 of 94). These functions will not be directly callable after loading.\n"
     ]
    },
    {
     "name": "stdout",
     "output_type": "stream",
     "text": [
      "INFO:tensorflow:Assets written to: model/inception/assets\n"
     ]
    },
    {
     "name": "stderr",
     "output_type": "stream",
     "text": [
      "INFO:tensorflow:Assets written to: model/inception/assets\n"
     ]
    }
   ],
   "source": [
    "model.save('model/inception')"
   ]
  }
 ],
 "metadata": {
  "kernelspec": {
   "display_name": "Python 3 (ipykernel)",
   "language": "python",
   "name": "python3"
  },
  "language_info": {
   "codemirror_mode": {
    "name": "ipython",
    "version": 3
   },
   "file_extension": ".py",
   "mimetype": "text/x-python",
   "name": "python",
   "nbconvert_exporter": "python",
   "pygments_lexer": "ipython3",
   "version": "3.9.13"
  }
 },
 "nbformat": 4,
 "nbformat_minor": 5
}
