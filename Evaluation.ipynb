{
 "cells": [
  {
   "cell_type": "code",
   "execution_count": 1,
   "id": "3d7f1dc3",
   "metadata": {
    "execution": {
     "iopub.execute_input": "2023-02-12T05:14:36.643007Z",
     "iopub.status.busy": "2023-02-12T05:14:36.642656Z",
     "iopub.status.idle": "2023-02-12T05:14:39.141980Z",
     "shell.execute_reply": "2023-02-12T05:14:39.141314Z",
     "shell.execute_reply.started": "2023-02-12T05:14:36.642929Z"
    }
   },
   "outputs": [],
   "source": [
    "from tqdm.notebook import tqdm\n",
    "import pandas as pd\n",
    "import numpy as np\n",
    "\n",
    "import tensorflow as tf\n",
    "from sklearn.metrics import classification_report, ConfusionMatrixDisplay, confusion_matrix"
   ]
  },
  {
   "cell_type": "code",
   "execution_count": 2,
   "id": "a6a905ff",
   "metadata": {
    "execution": {
     "iopub.execute_input": "2023-02-12T05:14:39.143424Z",
     "iopub.status.busy": "2023-02-12T05:14:39.143066Z",
     "iopub.status.idle": "2023-02-12T05:14:49.537033Z",
     "shell.execute_reply": "2023-02-12T05:14:49.536202Z",
     "shell.execute_reply.started": "2023-02-12T05:14:39.143405Z"
    }
   },
   "outputs": [],
   "source": [
    "base_model_name = 'inception' \n",
    "base_model = tf.keras.models.load_model(f'model/{base_model_name}')"
   ]
  },
  {
   "cell_type": "code",
   "execution_count": 3,
   "id": "917d0518",
   "metadata": {
    "execution": {
     "iopub.execute_input": "2023-02-12T05:14:49.538228Z",
     "iopub.status.busy": "2023-02-12T05:14:49.538022Z",
     "iopub.status.idle": "2023-02-12T05:14:49.542152Z",
     "shell.execute_reply": "2023-02-12T05:14:49.541481Z",
     "shell.execute_reply.started": "2023-02-12T05:14:49.538216Z"
    }
   },
   "outputs": [],
   "source": [
    "def get_img(img_path, image_size=299):\n",
    "    preprocess_input = tf.keras.applications.inception_v3.preprocess_input\n",
    "    img = tf.keras.preprocessing.image.load_img(img_path, \n",
    "                                                target_size = (image_size,image_size))\n",
    "    img = tf.keras.utils.img_to_array(img) \n",
    "    img = preprocess_input(img)\n",
    "    return img"
   ]
  },
  {
   "cell_type": "code",
   "execution_count": 4,
   "id": "0081978a",
   "metadata": {
    "execution": {
     "iopub.execute_input": "2023-02-12T05:14:49.543724Z",
     "iopub.status.busy": "2023-02-12T05:14:49.543402Z",
     "iopub.status.idle": "2023-02-12T05:16:11.546204Z",
     "shell.execute_reply": "2023-02-12T05:16:11.545426Z",
     "shell.execute_reply.started": "2023-02-12T05:14:49.543720Z"
    }
   },
   "outputs": [
    {
     "data": {
      "application/vnd.jupyter.widget-view+json": {
       "model_id": "661ad5343a1a40ac8b0d7d8ab72c46a2",
       "version_major": 2,
       "version_minor": 0
      },
      "text/plain": [
       "  0%|          | 0/1001 [00:00<?, ?it/s]"
      ]
     },
     "metadata": {},
     "output_type": "display_data"
    },
    {
     "name": "stdout",
     "output_type": "stream",
     "text": [
      "              precision    recall  f1-score   support\n",
      "\n",
      "       akiec       0.75      0.58      0.65        31\n",
      "         bcc       0.90      0.69      0.78        54\n",
      "         bkl       0.64      0.73      0.68       117\n",
      "          df       1.00      0.43      0.60        14\n",
      "         mel       0.59      0.68      0.63       103\n",
      "          nv       0.93      0.92      0.93       663\n",
      "        vasc       0.95      0.95      0.95        19\n",
      "\n",
      "    accuracy                           0.85      1001\n",
      "   macro avg       0.82      0.71      0.75      1001\n",
      "weighted avg       0.85      0.85      0.85      1001\n",
      "\n"
     ]
    },
    {
     "data": {
      "text/plain": [
       "<sklearn.metrics._plot.confusion_matrix.ConfusionMatrixDisplay at 0x7f52d02833d0>"
      ]
     },
     "execution_count": 4,
     "metadata": {},
     "output_type": "execute_result"
    },
    {
     "data": {
      "image/png": "[encoded data removed]",
      "text/plain": [
       "<Figure size 432x288 with 2 Axes>"
      ]
     },
     "metadata": {
      "needs_background": "light"
     },
     "output_type": "display_data"
    }
   ],
   "source": [
    "test_df = pd.read_csv('data/test_truth.csv')\n",
    "y_true, y_pred = [], []\n",
    "\n",
    "labels = np.unique(list(test_df['dx']))\n",
    "class_label = {name : idx for idx, name in enumerate(labels)}\n",
    "\n",
    "for _, row in tqdm(test_df.iterrows(), total = len(test_df)):    \n",
    "    img_path = row['image_id']\n",
    "    img = get_img(f'data/test/{img_path}.jpg').reshape(-1, 299,299, 3)\n",
    "\n",
    "    label = class_label[row['dx']]\n",
    "\n",
    "    pred = np.argmax(base_model(img))  \n",
    "    \n",
    "    y_true.append(label)\n",
    "    y_pred.append(pred)\n",
    "\n",
    "print(classification_report(y_true, y_pred, target_names=class_label))\n",
    "\n",
    "matrix = confusion_matrix(y_true, y_pred)\n",
    "disp = ConfusionMatrixDisplay(confusion_matrix=matrix, display_labels = list(class_label.keys()))\n",
    "disp.plot()"
   ]
  },
  {
   "cell_type": "code",
   "execution_count": null,
   "id": "b063fd36",
   "metadata": {},
   "outputs": [],
   "source": []
  }
 ],
 "metadata": {
  "kernelspec": {
   "display_name": "Python 3 (ipykernel)",
   "language": "python",
   "name": "python3"
  },
  "language_info": {
   "codemirror_mode": {
    "name": "ipython",
    "version": 3
   },
   "file_extension": ".py",
   "mimetype": "text/x-python",
   "name": "python",
   "nbconvert_exporter": "python",
   "pygments_lexer": "ipython3",
   "version": "3.9.13"
  }
 },
 "nbformat": 4,
 "nbformat_minor": 5
}
